{
 "cells": [
  {
   "cell_type": "code",
   "execution_count": 2,
   "id": "c2ccc8fb",
   "metadata": {},
   "outputs": [],
   "source": [
    "import pandas as pd\n",
    "import numpy as np\n",
    "import datetime as dt\n",
    "import seaborn as sns\n",
    "from sklearn.model_selection import train_test_split\n",
    "from sklearn.metrics import mean_squared_error\n",
    "from sklearn.metrics import mean_absolute_error\n",
    "from sklearn.metrics import mean_absolute_percentage_error\n",
    "from math import sqrt"
   ]
  },
  {
   "cell_type": "markdown",
   "id": "9a61d5ce",
   "metadata": {},
   "source": [
    "Data loading"
   ]
  },
  {
   "cell_type": "code",
   "execution_count": 3,
   "id": "7b4caba6",
   "metadata": {},
   "outputs": [],
   "source": [
    "df=pd.read_csv(\"D:\\project\\house price prediction\\House_Data.csv\")"
   ]
  },
  {
   "cell_type": "code",
   "execution_count": 4,
   "id": "25648a5b",
   "metadata": {},
   "outputs": [
    {
     "data": {
      "text/plain": [
       "(62810, 32)"
      ]
     },
     "execution_count": 4,
     "metadata": {},
     "output_type": "execute_result"
    }
   ],
   "source": [
    "df.shape"
   ]
  },
  {
   "cell_type": "code",
   "execution_count": 5,
   "id": "e6913cb9",
   "metadata": {},
   "outputs": [
    {
     "data": {
      "text/plain": [
       "Index(['Unnamed: 0', 'Price', 'Beds', 'Baths', 'sq.ft', 'Floor',\n",
       "       'Move_in_date', 'building_id', 'unit_id', 'URL', 'Day_Recorded',\n",
       "       'Amenity', 'Apartment Name', 'Address', 'City', 'Units',\n",
       "       'Northern_Exposure', 'Southern_Exposure', 'Eastern_Exposure',\n",
       "       'Western_Exposure', 'Balcony', 'Walk_In_Closet', 'Fireplace',\n",
       "       'City_Skyline', 'Kitchen_Island', 'Stainless_Appliances', 'Renovated',\n",
       "       'Office_Space', 'Days_Till_Available', 'Day_of_the_week_recorded',\n",
       "       'Unique_ID', 'Estiamted_Vacancy'],\n",
       "      dtype='object')"
      ]
     },
     "execution_count": 5,
     "metadata": {},
     "output_type": "execute_result"
    }
   ],
   "source": [
    "df.columns"
   ]
  },
  {
   "cell_type": "code",
   "execution_count": 6,
   "id": "20af869f",
   "metadata": {},
   "outputs": [
    {
     "data": {
      "text/plain": [
       "array([False, False, False, False, False, False, False, False, False,\n",
       "       False, False, False, False, False, False, False, False, False,\n",
       "       False, False, False, False, False, False, False, False, False,\n",
       "       False, False, False, False, False])"
      ]
     },
     "execution_count": 6,
     "metadata": {},
     "output_type": "execute_result"
    }
   ],
   "source": [
    "df.columns.duplicated()"
   ]
  },
  {
   "cell_type": "code",
   "execution_count": 7,
   "id": "685ec4c9",
   "metadata": {},
   "outputs": [
    {
     "data": {
      "text/html": [
       "<div>\n",
       "<style scoped>\n",
       "    .dataframe tbody tr th:only-of-type {\n",
       "        vertical-align: middle;\n",
       "    }\n",
       "\n",
       "    .dataframe tbody tr th {\n",
       "        vertical-align: top;\n",
       "    }\n",
       "\n",
       "    .dataframe thead th {\n",
       "        text-align: right;\n",
       "    }\n",
       "</style>\n",
       "<table border=\"1\" class=\"dataframe\">\n",
       "  <thead>\n",
       "    <tr style=\"text-align: right;\">\n",
       "      <th></th>\n",
       "      <th>Beds</th>\n",
       "      <th>Price</th>\n",
       "    </tr>\n",
       "  </thead>\n",
       "  <tbody>\n",
       "    <tr>\n",
       "      <th>0</th>\n",
       "      <td>0</td>\n",
       "      <td>2377</td>\n",
       "    </tr>\n",
       "    <tr>\n",
       "      <th>1</th>\n",
       "      <td>1</td>\n",
       "      <td>2816</td>\n",
       "    </tr>\n",
       "    <tr>\n",
       "      <th>2</th>\n",
       "      <td>2</td>\n",
       "      <td>3811</td>\n",
       "    </tr>\n",
       "    <tr>\n",
       "      <th>3</th>\n",
       "      <td>0</td>\n",
       "      <td>1549</td>\n",
       "    </tr>\n",
       "    <tr>\n",
       "      <th>4</th>\n",
       "      <td>1</td>\n",
       "      <td>1753</td>\n",
       "    </tr>\n",
       "  </tbody>\n",
       "</table>\n",
       "</div>"
      ],
      "text/plain": [
       "   Beds  Price\n",
       "0     0   2377\n",
       "1     1   2816\n",
       "2     2   3811\n",
       "3     0   1549\n",
       "4     1   1753"
      ]
     },
     "execution_count": 7,
     "metadata": {},
     "output_type": "execute_result"
    }
   ],
   "source": [
    "df[['Beds','Price']].head(5)"
   ]
  },
  {
   "cell_type": "code",
   "execution_count": 8,
   "id": "018e4d1a",
   "metadata": {
    "scrolled": true
   },
   "outputs": [
    {
     "data": {
      "text/html": [
       "<div>\n",
       "<style scoped>\n",
       "    .dataframe tbody tr th:only-of-type {\n",
       "        vertical-align: middle;\n",
       "    }\n",
       "\n",
       "    .dataframe tbody tr th {\n",
       "        vertical-align: top;\n",
       "    }\n",
       "\n",
       "    .dataframe thead th {\n",
       "        text-align: right;\n",
       "    }\n",
       "</style>\n",
       "<table border=\"1\" class=\"dataframe\">\n",
       "  <thead>\n",
       "    <tr style=\"text-align: right;\">\n",
       "      <th></th>\n",
       "      <th>Unnamed: 0</th>\n",
       "      <th>Price</th>\n",
       "      <th>Beds</th>\n",
       "      <th>Baths</th>\n",
       "      <th>sq.ft</th>\n",
       "      <th>Floor</th>\n",
       "      <th>Move_in_date</th>\n",
       "      <th>building_id</th>\n",
       "      <th>unit_id</th>\n",
       "      <th>URL</th>\n",
       "      <th>...</th>\n",
       "      <th>Fireplace</th>\n",
       "      <th>City_Skyline</th>\n",
       "      <th>Kitchen_Island</th>\n",
       "      <th>Stainless_Appliances</th>\n",
       "      <th>Renovated</th>\n",
       "      <th>Office_Space</th>\n",
       "      <th>Days_Till_Available</th>\n",
       "      <th>Day_of_the_week_recorded</th>\n",
       "      <th>Unique_ID</th>\n",
       "      <th>Estiamted_Vacancy</th>\n",
       "    </tr>\n",
       "  </thead>\n",
       "  <tbody>\n",
       "    <tr>\n",
       "      <th>0</th>\n",
       "      <td>1</td>\n",
       "      <td>2377</td>\n",
       "      <td>0</td>\n",
       "      <td>1</td>\n",
       "      <td>523</td>\n",
       "      <td>5</td>\n",
       "      <td>9/2/2021</td>\n",
       "      <td>1</td>\n",
       "      <td>507</td>\n",
       "      <td>https://www.equityapartments.com/washington-dc...</td>\n",
       "      <td>...</td>\n",
       "      <td>0.0</td>\n",
       "      <td>0.0</td>\n",
       "      <td>0.0</td>\n",
       "      <td>1.0</td>\n",
       "      <td>1.0</td>\n",
       "      <td>0.0</td>\n",
       "      <td>47.0</td>\n",
       "      <td>Wednesday</td>\n",
       "      <td>0105071210MassApartments</td>\n",
       "      <td>0.020833</td>\n",
       "    </tr>\n",
       "    <tr>\n",
       "      <th>1</th>\n",
       "      <td>2</td>\n",
       "      <td>2816</td>\n",
       "      <td>1</td>\n",
       "      <td>1</td>\n",
       "      <td>713</td>\n",
       "      <td>2</td>\n",
       "      <td>9/13/2021</td>\n",
       "      <td>1</td>\n",
       "      <td>204</td>\n",
       "      <td>https://www.equityapartments.com/washington-dc...</td>\n",
       "      <td>...</td>\n",
       "      <td>0.0</td>\n",
       "      <td>0.0</td>\n",
       "      <td>0.0</td>\n",
       "      <td>1.0</td>\n",
       "      <td>1.0</td>\n",
       "      <td>0.0</td>\n",
       "      <td>58.0</td>\n",
       "      <td>Wednesday</td>\n",
       "      <td>0102041210MassApartments</td>\n",
       "      <td>0.020833</td>\n",
       "    </tr>\n",
       "    <tr>\n",
       "      <th>2</th>\n",
       "      <td>3</td>\n",
       "      <td>3811</td>\n",
       "      <td>2</td>\n",
       "      <td>2</td>\n",
       "      <td>1252</td>\n",
       "      <td>6</td>\n",
       "      <td>10/8/2021</td>\n",
       "      <td>1</td>\n",
       "      <td>608</td>\n",
       "      <td>https://www.equityapartments.com/washington-dc...</td>\n",
       "      <td>...</td>\n",
       "      <td>1.0</td>\n",
       "      <td>0.0</td>\n",
       "      <td>0.0</td>\n",
       "      <td>0.0</td>\n",
       "      <td>0.0</td>\n",
       "      <td>0.0</td>\n",
       "      <td>83.0</td>\n",
       "      <td>Wednesday</td>\n",
       "      <td>0106081210MassApartments</td>\n",
       "      <td>0.020833</td>\n",
       "    </tr>\n",
       "    <tr>\n",
       "      <th>3</th>\n",
       "      <td>4</td>\n",
       "      <td>1549</td>\n",
       "      <td>0</td>\n",
       "      <td>1</td>\n",
       "      <td>456</td>\n",
       "      <td>2</td>\n",
       "      <td>9/17/2021</td>\n",
       "      <td>1</td>\n",
       "      <td>256 \\r\\n</td>\n",
       "      <td>https://www.equityapartments.com/washington-dc...</td>\n",
       "      <td>...</td>\n",
       "      <td>0.0</td>\n",
       "      <td>0.0</td>\n",
       "      <td>0.0</td>\n",
       "      <td>0.0</td>\n",
       "      <td>0.0</td>\n",
       "      <td>0.0</td>\n",
       "      <td>62.0</td>\n",
       "      <td>Wednesday</td>\n",
       "      <td>1256\\r\\n1500MassApartments</td>\n",
       "      <td>0.003597</td>\n",
       "    </tr>\n",
       "    <tr>\n",
       "      <th>4</th>\n",
       "      <td>5</td>\n",
       "      <td>1753</td>\n",
       "      <td>1</td>\n",
       "      <td>1</td>\n",
       "      <td>580</td>\n",
       "      <td>3</td>\n",
       "      <td>10/5/2021</td>\n",
       "      <td>1</td>\n",
       "      <td>337 \\r\\n</td>\n",
       "      <td>https://www.equityapartments.com/washington-dc...</td>\n",
       "      <td>...</td>\n",
       "      <td>0.0</td>\n",
       "      <td>0.0</td>\n",
       "      <td>0.0</td>\n",
       "      <td>0.0</td>\n",
       "      <td>0.0</td>\n",
       "      <td>0.0</td>\n",
       "      <td>80.0</td>\n",
       "      <td>Wednesday</td>\n",
       "      <td>1337\\r\\n1500MassApartments</td>\n",
       "      <td>0.003597</td>\n",
       "    </tr>\n",
       "  </tbody>\n",
       "</table>\n",
       "<p>5 rows × 32 columns</p>\n",
       "</div>"
      ],
      "text/plain": [
       "   Unnamed: 0  Price  Beds  Baths  sq.ft  Floor Move_in_date building_id  \\\n",
       "0           1   2377     0      1    523      5     9/2/2021           1   \n",
       "1           2   2816     1      1    713      2    9/13/2021           1   \n",
       "2           3   3811     2      2   1252      6    10/8/2021           1   \n",
       "3           4   1549     0      1    456      2    9/17/2021           1   \n",
       "4           5   1753     1      1    580      3    10/5/2021           1   \n",
       "\n",
       "    unit_id                                                URL  ... Fireplace  \\\n",
       "0       507  https://www.equityapartments.com/washington-dc...  ...       0.0   \n",
       "1       204  https://www.equityapartments.com/washington-dc...  ...       0.0   \n",
       "2       608  https://www.equityapartments.com/washington-dc...  ...       1.0   \n",
       "3  256 \\r\\n  https://www.equityapartments.com/washington-dc...  ...       0.0   \n",
       "4  337 \\r\\n  https://www.equityapartments.com/washington-dc...  ...       0.0   \n",
       "\n",
       "  City_Skyline Kitchen_Island Stainless_Appliances Renovated  Office_Space  \\\n",
       "0          0.0            0.0                  1.0       1.0           0.0   \n",
       "1          0.0            0.0                  1.0       1.0           0.0   \n",
       "2          0.0            0.0                  0.0       0.0           0.0   \n",
       "3          0.0            0.0                  0.0       0.0           0.0   \n",
       "4          0.0            0.0                  0.0       0.0           0.0   \n",
       "\n",
       "   Days_Till_Available  Day_of_the_week_recorded                   Unique_ID  \\\n",
       "0                 47.0                 Wednesday    0105071210MassApartments   \n",
       "1                 58.0                 Wednesday    0102041210MassApartments   \n",
       "2                 83.0                 Wednesday    0106081210MassApartments   \n",
       "3                 62.0                 Wednesday  1256\\r\\n1500MassApartments   \n",
       "4                 80.0                 Wednesday  1337\\r\\n1500MassApartments   \n",
       "\n",
       "   Estiamted_Vacancy  \n",
       "0           0.020833  \n",
       "1           0.020833  \n",
       "2           0.020833  \n",
       "3           0.003597  \n",
       "4           0.003597  \n",
       "\n",
       "[5 rows x 32 columns]"
      ]
     },
     "execution_count": 8,
     "metadata": {},
     "output_type": "execute_result"
    }
   ],
   "source": [
    "df.head(5)"
   ]
  },
  {
   "cell_type": "code",
   "execution_count": 9,
   "id": "b71a0278",
   "metadata": {},
   "outputs": [
    {
     "name": "stdout",
     "output_type": "stream",
     "text": [
      "<class 'pandas.core.frame.DataFrame'>\n",
      "RangeIndex: 62810 entries, 0 to 62809\n",
      "Data columns (total 32 columns):\n",
      " #   Column                    Non-Null Count  Dtype  \n",
      "---  ------                    --------------  -----  \n",
      " 0   Unnamed: 0                62810 non-null  int64  \n",
      " 1   Price                     62810 non-null  int64  \n",
      " 2   Beds                      62810 non-null  int64  \n",
      " 3   Baths                     62810 non-null  int64  \n",
      " 4   sq.ft                     62810 non-null  int64  \n",
      " 5   Floor                     62810 non-null  int64  \n",
      " 6   Move_in_date              62022 non-null  object \n",
      " 7   building_id               61958 non-null  object \n",
      " 8   unit_id                   61958 non-null  object \n",
      " 9   URL                       62810 non-null  object \n",
      " 10  Day_Recorded              62810 non-null  object \n",
      " 11  Amenity                   60319 non-null  object \n",
      " 12  Apartment Name            62810 non-null  object \n",
      " 13  Address                   62810 non-null  object \n",
      " 14  City                      62810 non-null  object \n",
      " 15  Units                     62810 non-null  int64  \n",
      " 16  Northern_Exposure         60319 non-null  float64\n",
      " 17  Southern_Exposure         60319 non-null  float64\n",
      " 18  Eastern_Exposure          60319 non-null  float64\n",
      " 19  Western_Exposure          60319 non-null  float64\n",
      " 20  Balcony                   60319 non-null  float64\n",
      " 21  Walk_In_Closet            60319 non-null  float64\n",
      " 22  Fireplace                 60319 non-null  float64\n",
      " 23  City_Skyline              60319 non-null  float64\n",
      " 24  Kitchen_Island            60319 non-null  float64\n",
      " 25  Stainless_Appliances      60319 non-null  float64\n",
      " 26  Renovated                 60319 non-null  float64\n",
      " 27  Office_Space              60319 non-null  float64\n",
      " 28  Days_Till_Available       62022 non-null  float64\n",
      " 29  Day_of_the_week_recorded  62810 non-null  object \n",
      " 30  Unique_ID                 61958 non-null  object \n",
      " 31  Estiamted_Vacancy         62810 non-null  float64\n",
      "dtypes: float64(14), int64(7), object(11)\n",
      "memory usage: 15.3+ MB\n"
     ]
    }
   ],
   "source": [
    "df.info()"
   ]
  },
  {
   "cell_type": "markdown",
   "id": "422d7314",
   "metadata": {},
   "source": [
    "\"Unnamed: 0\" columns drop"
   ]
  },
  {
   "cell_type": "code",
   "execution_count": 10,
   "id": "c652525a",
   "metadata": {},
   "outputs": [],
   "source": [
    "df.drop(\"Unnamed: 0\",axis=1,inplace=True)"
   ]
  },
  {
   "cell_type": "code",
   "execution_count": 11,
   "id": "e411cd35",
   "metadata": {
    "scrolled": true
   },
   "outputs": [
    {
     "data": {
      "text/html": [
       "<div>\n",
       "<style scoped>\n",
       "    .dataframe tbody tr th:only-of-type {\n",
       "        vertical-align: middle;\n",
       "    }\n",
       "\n",
       "    .dataframe tbody tr th {\n",
       "        vertical-align: top;\n",
       "    }\n",
       "\n",
       "    .dataframe thead th {\n",
       "        text-align: right;\n",
       "    }\n",
       "</style>\n",
       "<table border=\"1\" class=\"dataframe\">\n",
       "  <thead>\n",
       "    <tr style=\"text-align: right;\">\n",
       "      <th></th>\n",
       "      <th>Price</th>\n",
       "      <th>Beds</th>\n",
       "      <th>Baths</th>\n",
       "      <th>sq.ft</th>\n",
       "      <th>Floor</th>\n",
       "      <th>Units</th>\n",
       "      <th>Northern_Exposure</th>\n",
       "      <th>Southern_Exposure</th>\n",
       "      <th>Eastern_Exposure</th>\n",
       "      <th>Western_Exposure</th>\n",
       "      <th>Balcony</th>\n",
       "      <th>Walk_In_Closet</th>\n",
       "      <th>Fireplace</th>\n",
       "      <th>City_Skyline</th>\n",
       "      <th>Kitchen_Island</th>\n",
       "      <th>Stainless_Appliances</th>\n",
       "      <th>Renovated</th>\n",
       "      <th>Office_Space</th>\n",
       "      <th>Days_Till_Available</th>\n",
       "      <th>Estiamted_Vacancy</th>\n",
       "    </tr>\n",
       "  </thead>\n",
       "  <tbody>\n",
       "    <tr>\n",
       "      <th>count</th>\n",
       "      <td>62810.000000</td>\n",
       "      <td>62810.000000</td>\n",
       "      <td>62810.000000</td>\n",
       "      <td>62810.000000</td>\n",
       "      <td>62810.000000</td>\n",
       "      <td>62810.000000</td>\n",
       "      <td>60319.000000</td>\n",
       "      <td>60319.000000</td>\n",
       "      <td>60319.000000</td>\n",
       "      <td>60319.000000</td>\n",
       "      <td>60319.000000</td>\n",
       "      <td>60319.000000</td>\n",
       "      <td>60319.000000</td>\n",
       "      <td>60319.000000</td>\n",
       "      <td>60319.000000</td>\n",
       "      <td>60319.000000</td>\n",
       "      <td>60319.000000</td>\n",
       "      <td>60319.000000</td>\n",
       "      <td>62022.000000</td>\n",
       "      <td>62810.000000</td>\n",
       "    </tr>\n",
       "    <tr>\n",
       "      <th>mean</th>\n",
       "      <td>3000.848559</td>\n",
       "      <td>1.291291</td>\n",
       "      <td>1.407037</td>\n",
       "      <td>846.905827</td>\n",
       "      <td>6.414202</td>\n",
       "      <td>338.785528</td>\n",
       "      <td>0.207464</td>\n",
       "      <td>0.188697</td>\n",
       "      <td>0.231453</td>\n",
       "      <td>0.223644</td>\n",
       "      <td>0.240903</td>\n",
       "      <td>0.119316</td>\n",
       "      <td>0.089358</td>\n",
       "      <td>0.027786</td>\n",
       "      <td>0.038363</td>\n",
       "      <td>0.079411</td>\n",
       "      <td>0.210050</td>\n",
       "      <td>0.021303</td>\n",
       "      <td>27.174857</td>\n",
       "      <td>0.081126</td>\n",
       "    </tr>\n",
       "    <tr>\n",
       "      <th>std</th>\n",
       "      <td>1009.977924</td>\n",
       "      <td>0.707895</td>\n",
       "      <td>0.545932</td>\n",
       "      <td>250.359228</td>\n",
       "      <td>7.260055</td>\n",
       "      <td>147.851929</td>\n",
       "      <td>0.405494</td>\n",
       "      <td>0.391271</td>\n",
       "      <td>0.421765</td>\n",
       "      <td>0.416690</td>\n",
       "      <td>0.427635</td>\n",
       "      <td>0.324162</td>\n",
       "      <td>0.285263</td>\n",
       "      <td>0.164359</td>\n",
       "      <td>0.192072</td>\n",
       "      <td>0.270382</td>\n",
       "      <td>0.407347</td>\n",
       "      <td>0.144395</td>\n",
       "      <td>25.531519</td>\n",
       "      <td>0.103878</td>\n",
       "    </tr>\n",
       "    <tr>\n",
       "      <th>min</th>\n",
       "      <td>1211.000000</td>\n",
       "      <td>0.000000</td>\n",
       "      <td>1.000000</td>\n",
       "      <td>210.000000</td>\n",
       "      <td>1.000000</td>\n",
       "      <td>18.000000</td>\n",
       "      <td>0.000000</td>\n",
       "      <td>0.000000</td>\n",
       "      <td>0.000000</td>\n",
       "      <td>0.000000</td>\n",
       "      <td>0.000000</td>\n",
       "      <td>0.000000</td>\n",
       "      <td>0.000000</td>\n",
       "      <td>0.000000</td>\n",
       "      <td>0.000000</td>\n",
       "      <td>0.000000</td>\n",
       "      <td>0.000000</td>\n",
       "      <td>0.000000</td>\n",
       "      <td>0.000000</td>\n",
       "      <td>0.001773</td>\n",
       "    </tr>\n",
       "    <tr>\n",
       "      <th>25%</th>\n",
       "      <td>2289.000000</td>\n",
       "      <td>1.000000</td>\n",
       "      <td>1.000000</td>\n",
       "      <td>674.000000</td>\n",
       "      <td>2.000000</td>\n",
       "      <td>229.000000</td>\n",
       "      <td>0.000000</td>\n",
       "      <td>0.000000</td>\n",
       "      <td>0.000000</td>\n",
       "      <td>0.000000</td>\n",
       "      <td>0.000000</td>\n",
       "      <td>0.000000</td>\n",
       "      <td>0.000000</td>\n",
       "      <td>0.000000</td>\n",
       "      <td>0.000000</td>\n",
       "      <td>0.000000</td>\n",
       "      <td>0.000000</td>\n",
       "      <td>0.000000</td>\n",
       "      <td>3.000000</td>\n",
       "      <td>0.041667</td>\n",
       "    </tr>\n",
       "    <tr>\n",
       "      <th>50%</th>\n",
       "      <td>2803.000000</td>\n",
       "      <td>1.000000</td>\n",
       "      <td>1.000000</td>\n",
       "      <td>782.000000</td>\n",
       "      <td>3.000000</td>\n",
       "      <td>316.000000</td>\n",
       "      <td>0.000000</td>\n",
       "      <td>0.000000</td>\n",
       "      <td>0.000000</td>\n",
       "      <td>0.000000</td>\n",
       "      <td>0.000000</td>\n",
       "      <td>0.000000</td>\n",
       "      <td>0.000000</td>\n",
       "      <td>0.000000</td>\n",
       "      <td>0.000000</td>\n",
       "      <td>0.000000</td>\n",
       "      <td>0.000000</td>\n",
       "      <td>0.000000</td>\n",
       "      <td>23.000000</td>\n",
       "      <td>0.059925</td>\n",
       "    </tr>\n",
       "    <tr>\n",
       "      <th>75%</th>\n",
       "      <td>3453.000000</td>\n",
       "      <td>2.000000</td>\n",
       "      <td>2.000000</td>\n",
       "      <td>1046.000000</td>\n",
       "      <td>8.000000</td>\n",
       "      <td>444.000000</td>\n",
       "      <td>0.000000</td>\n",
       "      <td>0.000000</td>\n",
       "      <td>0.000000</td>\n",
       "      <td>0.000000</td>\n",
       "      <td>0.000000</td>\n",
       "      <td>0.000000</td>\n",
       "      <td>0.000000</td>\n",
       "      <td>0.000000</td>\n",
       "      <td>0.000000</td>\n",
       "      <td>0.000000</td>\n",
       "      <td>0.000000</td>\n",
       "      <td>0.000000</td>\n",
       "      <td>44.000000</td>\n",
       "      <td>0.077348</td>\n",
       "    </tr>\n",
       "    <tr>\n",
       "      <th>max</th>\n",
       "      <td>9890.000000</td>\n",
       "      <td>3.000000</td>\n",
       "      <td>3.000000</td>\n",
       "      <td>1917.000000</td>\n",
       "      <td>49.000000</td>\n",
       "      <td>761.000000</td>\n",
       "      <td>1.000000</td>\n",
       "      <td>1.000000</td>\n",
       "      <td>1.000000</td>\n",
       "      <td>1.000000</td>\n",
       "      <td>1.000000</td>\n",
       "      <td>1.000000</td>\n",
       "      <td>1.000000</td>\n",
       "      <td>1.000000</td>\n",
       "      <td>1.000000</td>\n",
       "      <td>1.000000</td>\n",
       "      <td>1.000000</td>\n",
       "      <td>1.000000</td>\n",
       "      <td>434.000000</td>\n",
       "      <td>0.675325</td>\n",
       "    </tr>\n",
       "  </tbody>\n",
       "</table>\n",
       "</div>"
      ],
      "text/plain": [
       "              Price          Beds         Baths         sq.ft         Floor  \\\n",
       "count  62810.000000  62810.000000  62810.000000  62810.000000  62810.000000   \n",
       "mean    3000.848559      1.291291      1.407037    846.905827      6.414202   \n",
       "std     1009.977924      0.707895      0.545932    250.359228      7.260055   \n",
       "min     1211.000000      0.000000      1.000000    210.000000      1.000000   \n",
       "25%     2289.000000      1.000000      1.000000    674.000000      2.000000   \n",
       "50%     2803.000000      1.000000      1.000000    782.000000      3.000000   \n",
       "75%     3453.000000      2.000000      2.000000   1046.000000      8.000000   \n",
       "max     9890.000000      3.000000      3.000000   1917.000000     49.000000   \n",
       "\n",
       "              Units  Northern_Exposure  Southern_Exposure  Eastern_Exposure  \\\n",
       "count  62810.000000       60319.000000       60319.000000      60319.000000   \n",
       "mean     338.785528           0.207464           0.188697          0.231453   \n",
       "std      147.851929           0.405494           0.391271          0.421765   \n",
       "min       18.000000           0.000000           0.000000          0.000000   \n",
       "25%      229.000000           0.000000           0.000000          0.000000   \n",
       "50%      316.000000           0.000000           0.000000          0.000000   \n",
       "75%      444.000000           0.000000           0.000000          0.000000   \n",
       "max      761.000000           1.000000           1.000000          1.000000   \n",
       "\n",
       "       Western_Exposure       Balcony  Walk_In_Closet     Fireplace  \\\n",
       "count      60319.000000  60319.000000    60319.000000  60319.000000   \n",
       "mean           0.223644      0.240903        0.119316      0.089358   \n",
       "std            0.416690      0.427635        0.324162      0.285263   \n",
       "min            0.000000      0.000000        0.000000      0.000000   \n",
       "25%            0.000000      0.000000        0.000000      0.000000   \n",
       "50%            0.000000      0.000000        0.000000      0.000000   \n",
       "75%            0.000000      0.000000        0.000000      0.000000   \n",
       "max            1.000000      1.000000        1.000000      1.000000   \n",
       "\n",
       "       City_Skyline  Kitchen_Island  Stainless_Appliances     Renovated  \\\n",
       "count  60319.000000    60319.000000          60319.000000  60319.000000   \n",
       "mean       0.027786        0.038363              0.079411      0.210050   \n",
       "std        0.164359        0.192072              0.270382      0.407347   \n",
       "min        0.000000        0.000000              0.000000      0.000000   \n",
       "25%        0.000000        0.000000              0.000000      0.000000   \n",
       "50%        0.000000        0.000000              0.000000      0.000000   \n",
       "75%        0.000000        0.000000              0.000000      0.000000   \n",
       "max        1.000000        1.000000              1.000000      1.000000   \n",
       "\n",
       "       Office_Space  Days_Till_Available  Estiamted_Vacancy  \n",
       "count  60319.000000         62022.000000       62810.000000  \n",
       "mean       0.021303            27.174857           0.081126  \n",
       "std        0.144395            25.531519           0.103878  \n",
       "min        0.000000             0.000000           0.001773  \n",
       "25%        0.000000             3.000000           0.041667  \n",
       "50%        0.000000            23.000000           0.059925  \n",
       "75%        0.000000            44.000000           0.077348  \n",
       "max        1.000000           434.000000           0.675325  "
      ]
     },
     "execution_count": 11,
     "metadata": {},
     "output_type": "execute_result"
    }
   ],
   "source": [
    "df.describe()"
   ]
  },
  {
   "cell_type": "markdown",
   "id": "b9aef7b0",
   "metadata": {},
   "source": [
    "### Data Cleaning"
   ]
  },
  {
   "cell_type": "markdown",
   "id": "decf35e4",
   "metadata": {},
   "source": [
    "Ckeck Null Values"
   ]
  },
  {
   "cell_type": "code",
   "execution_count": 12,
   "id": "c7e6bcb7",
   "metadata": {},
   "outputs": [
    {
     "data": {
      "text/plain": [
       "Price                          0\n",
       "Beds                           0\n",
       "Baths                          0\n",
       "sq.ft                          0\n",
       "Floor                          0\n",
       "Move_in_date                 788\n",
       "building_id                  852\n",
       "unit_id                      852\n",
       "URL                            0\n",
       "Day_Recorded                   0\n",
       "Amenity                     2491\n",
       "Apartment Name                 0\n",
       "Address                        0\n",
       "City                           0\n",
       "Units                          0\n",
       "Northern_Exposure           2491\n",
       "Southern_Exposure           2491\n",
       "Eastern_Exposure            2491\n",
       "Western_Exposure            2491\n",
       "Balcony                     2491\n",
       "Walk_In_Closet              2491\n",
       "Fireplace                   2491\n",
       "City_Skyline                2491\n",
       "Kitchen_Island              2491\n",
       "Stainless_Appliances        2491\n",
       "Renovated                   2491\n",
       "Office_Space                2491\n",
       "Days_Till_Available          788\n",
       "Day_of_the_week_recorded       0\n",
       "Unique_ID                    852\n",
       "Estiamted_Vacancy              0\n",
       "dtype: int64"
      ]
     },
     "execution_count": 12,
     "metadata": {},
     "output_type": "execute_result"
    }
   ],
   "source": [
    "df.isnull().sum()"
   ]
  },
  {
   "cell_type": "markdown",
   "id": "80e39ca5",
   "metadata": {},
   "source": [
    "### Removing Un-Necessary Columns"
   ]
  },
  {
   "cell_type": "code",
   "execution_count": 13,
   "id": "f7f0b6ec",
   "metadata": {},
   "outputs": [],
   "source": [
    "df=df.drop(['URL','unit_id','building_id','Unique_ID','Amenity'], axis=1)"
   ]
  },
  {
   "cell_type": "code",
   "execution_count": 14,
   "id": "3fb86e4e",
   "metadata": {},
   "outputs": [
    {
     "data": {
      "text/plain": [
       "Index(['Price', 'Beds', 'Baths', 'sq.ft', 'Floor', 'Move_in_date',\n",
       "       'Day_Recorded', 'Apartment Name', 'Address', 'City', 'Units',\n",
       "       'Northern_Exposure', 'Southern_Exposure', 'Eastern_Exposure',\n",
       "       'Western_Exposure', 'Balcony', 'Walk_In_Closet', 'Fireplace',\n",
       "       'City_Skyline', 'Kitchen_Island', 'Stainless_Appliances', 'Renovated',\n",
       "       'Office_Space', 'Days_Till_Available', 'Day_of_the_week_recorded',\n",
       "       'Estiamted_Vacancy'],\n",
       "      dtype='object')"
      ]
     },
     "execution_count": 14,
     "metadata": {},
     "output_type": "execute_result"
    }
   ],
   "source": [
    "df.columns"
   ]
  },
  {
   "cell_type": "markdown",
   "id": "e5472663",
   "metadata": {},
   "source": [
    "Checking Null values"
   ]
  },
  {
   "cell_type": "code",
   "execution_count": 15,
   "id": "aab82992",
   "metadata": {},
   "outputs": [
    {
     "data": {
      "text/plain": [
       "Price                          0\n",
       "Beds                           0\n",
       "Baths                          0\n",
       "sq.ft                          0\n",
       "Floor                          0\n",
       "Move_in_date                 788\n",
       "Day_Recorded                   0\n",
       "Apartment Name                 0\n",
       "Address                        0\n",
       "City                           0\n",
       "Units                          0\n",
       "Northern_Exposure           2491\n",
       "Southern_Exposure           2491\n",
       "Eastern_Exposure            2491\n",
       "Western_Exposure            2491\n",
       "Balcony                     2491\n",
       "Walk_In_Closet              2491\n",
       "Fireplace                   2491\n",
       "City_Skyline                2491\n",
       "Kitchen_Island              2491\n",
       "Stainless_Appliances        2491\n",
       "Renovated                   2491\n",
       "Office_Space                2491\n",
       "Days_Till_Available          788\n",
       "Day_of_the_week_recorded       0\n",
       "Estiamted_Vacancy              0\n",
       "dtype: int64"
      ]
     },
     "execution_count": 15,
     "metadata": {},
     "output_type": "execute_result"
    }
   ],
   "source": [
    "df.isnull().sum()"
   ]
  },
  {
   "cell_type": "markdown",
   "id": "6040bf07",
   "metadata": {},
   "source": [
    "### Filing NA values By Mean"
   ]
  },
  {
   "cell_type": "code",
   "execution_count": 16,
   "id": "9300c5a4",
   "metadata": {},
   "outputs": [],
   "source": [
    "df['Northern_Exposure']= df['Northern_Exposure'].fillna(df.Northern_Exposure.mean())\n",
    "df['Southern_Exposure']= df['Southern_Exposure'].fillna(df.Southern_Exposure.mean())\n",
    "df['Eastern_Exposure']= df['Eastern_Exposure'].fillna(df.Eastern_Exposure.mean())\n",
    "df['Western_Exposure']= df['Western_Exposure'].fillna(df.Western_Exposure.mean())\n",
    "df['Balcony']= df['Balcony'].fillna(df.Balcony.mean())\n",
    "df['Walk_In_Closet']= df['Walk_In_Closet'].fillna(df.Walk_In_Closet.mean())\n",
    "df['Fireplace']= df['Fireplace'].fillna(df.Fireplace.mean())\n",
    "df['City_Skyline']= df['City_Skyline'].fillna(df.City_Skyline.mean())\n",
    "df['Fireplace']= df['Fireplace'].fillna(df.Fireplace.mean())\n",
    "df['Kitchen_Island']= df['Kitchen_Island'].fillna(df.Kitchen_Island.mean())\n",
    "df['Stainless_Appliances']= df['Stainless_Appliances'].fillna(df.Stainless_Appliances.mean())\n",
    "df['Renovated']= df['Renovated'].fillna(df.Renovated.mean())\n",
    "df['Office_Space']= df['Office_Space'].fillna(df.Fireplace.mean())\n",
    "df['Days_Till_Available']= df['Days_Till_Available'].fillna(df.Days_Till_Available.mean())\n"
   ]
  },
  {
   "cell_type": "code",
   "execution_count": 17,
   "id": "32db3635",
   "metadata": {},
   "outputs": [],
   "source": [
    "df['Move_in_date'] = pd.to_datetime(df.Move_in_date)\n",
    "df['Day_Recorded'] = pd.to_datetime(df.Day_Recorded)"
   ]
  },
  {
   "cell_type": "code",
   "execution_count": 18,
   "id": "15e35ce2",
   "metadata": {},
   "outputs": [
    {
     "data": {
      "text/plain": [
       "Price                         0\n",
       "Beds                          0\n",
       "Baths                         0\n",
       "sq.ft                         0\n",
       "Floor                         0\n",
       "Move_in_date                788\n",
       "Day_Recorded                  0\n",
       "Apartment Name                0\n",
       "Address                       0\n",
       "City                          0\n",
       "Units                         0\n",
       "Northern_Exposure             0\n",
       "Southern_Exposure             0\n",
       "Eastern_Exposure              0\n",
       "Western_Exposure              0\n",
       "Balcony                       0\n",
       "Walk_In_Closet                0\n",
       "Fireplace                     0\n",
       "City_Skyline                  0\n",
       "Kitchen_Island                0\n",
       "Stainless_Appliances          0\n",
       "Renovated                     0\n",
       "Office_Space                  0\n",
       "Days_Till_Available           0\n",
       "Day_of_the_week_recorded      0\n",
       "Estiamted_Vacancy             0\n",
       "dtype: int64"
      ]
     },
     "execution_count": 18,
     "metadata": {},
     "output_type": "execute_result"
    }
   ],
   "source": [
    "df.isnull().sum()"
   ]
  },
  {
   "cell_type": "code",
   "execution_count": 19,
   "id": "8621005e",
   "metadata": {
    "scrolled": true
   },
   "outputs": [
    {
     "data": {
      "text/html": [
       "<div>\n",
       "<style scoped>\n",
       "    .dataframe tbody tr th:only-of-type {\n",
       "        vertical-align: middle;\n",
       "    }\n",
       "\n",
       "    .dataframe tbody tr th {\n",
       "        vertical-align: top;\n",
       "    }\n",
       "\n",
       "    .dataframe thead th {\n",
       "        text-align: right;\n",
       "    }\n",
       "</style>\n",
       "<table border=\"1\" class=\"dataframe\">\n",
       "  <thead>\n",
       "    <tr style=\"text-align: right;\">\n",
       "      <th></th>\n",
       "      <th>Price</th>\n",
       "      <th>Beds</th>\n",
       "      <th>Baths</th>\n",
       "      <th>sq.ft</th>\n",
       "      <th>Floor</th>\n",
       "      <th>Move_in_date</th>\n",
       "      <th>Day_Recorded</th>\n",
       "      <th>Apartment Name</th>\n",
       "      <th>Address</th>\n",
       "      <th>City</th>\n",
       "      <th>...</th>\n",
       "      <th>Walk_In_Closet</th>\n",
       "      <th>Fireplace</th>\n",
       "      <th>City_Skyline</th>\n",
       "      <th>Kitchen_Island</th>\n",
       "      <th>Stainless_Appliances</th>\n",
       "      <th>Renovated</th>\n",
       "      <th>Office_Space</th>\n",
       "      <th>Days_Till_Available</th>\n",
       "      <th>Day_of_the_week_recorded</th>\n",
       "      <th>Estiamted_Vacancy</th>\n",
       "    </tr>\n",
       "  </thead>\n",
       "  <tbody>\n",
       "    <tr>\n",
       "      <th>0</th>\n",
       "      <td>2377</td>\n",
       "      <td>0</td>\n",
       "      <td>1</td>\n",
       "      <td>523</td>\n",
       "      <td>5</td>\n",
       "      <td>2021-09-02</td>\n",
       "      <td>2021-07-17</td>\n",
       "      <td>1210 Mass Apartments</td>\n",
       "      <td>1210 Massachusetts Ave, NW\\r\\n\\r\\nWashington D...</td>\n",
       "      <td>Washington DC</td>\n",
       "      <td>...</td>\n",
       "      <td>0.0</td>\n",
       "      <td>0.0</td>\n",
       "      <td>0.0</td>\n",
       "      <td>0.0</td>\n",
       "      <td>1.0</td>\n",
       "      <td>1.0</td>\n",
       "      <td>0.0</td>\n",
       "      <td>47.0</td>\n",
       "      <td>Wednesday</td>\n",
       "      <td>0.020833</td>\n",
       "    </tr>\n",
       "    <tr>\n",
       "      <th>1</th>\n",
       "      <td>2816</td>\n",
       "      <td>1</td>\n",
       "      <td>1</td>\n",
       "      <td>713</td>\n",
       "      <td>2</td>\n",
       "      <td>2021-09-13</td>\n",
       "      <td>2021-07-17</td>\n",
       "      <td>1210 Mass Apartments</td>\n",
       "      <td>1210 Massachusetts Ave, NW\\r\\n\\r\\nWashington D...</td>\n",
       "      <td>Washington DC</td>\n",
       "      <td>...</td>\n",
       "      <td>0.0</td>\n",
       "      <td>0.0</td>\n",
       "      <td>0.0</td>\n",
       "      <td>0.0</td>\n",
       "      <td>1.0</td>\n",
       "      <td>1.0</td>\n",
       "      <td>0.0</td>\n",
       "      <td>58.0</td>\n",
       "      <td>Wednesday</td>\n",
       "      <td>0.020833</td>\n",
       "    </tr>\n",
       "    <tr>\n",
       "      <th>2</th>\n",
       "      <td>3811</td>\n",
       "      <td>2</td>\n",
       "      <td>2</td>\n",
       "      <td>1252</td>\n",
       "      <td>6</td>\n",
       "      <td>2021-10-08</td>\n",
       "      <td>2021-07-17</td>\n",
       "      <td>1210 Mass Apartments</td>\n",
       "      <td>1210 Massachusetts Ave, NW\\r\\n\\r\\nWashington D...</td>\n",
       "      <td>Washington DC</td>\n",
       "      <td>...</td>\n",
       "      <td>0.0</td>\n",
       "      <td>1.0</td>\n",
       "      <td>0.0</td>\n",
       "      <td>0.0</td>\n",
       "      <td>0.0</td>\n",
       "      <td>0.0</td>\n",
       "      <td>0.0</td>\n",
       "      <td>83.0</td>\n",
       "      <td>Wednesday</td>\n",
       "      <td>0.020833</td>\n",
       "    </tr>\n",
       "    <tr>\n",
       "      <th>3</th>\n",
       "      <td>1549</td>\n",
       "      <td>0</td>\n",
       "      <td>1</td>\n",
       "      <td>456</td>\n",
       "      <td>2</td>\n",
       "      <td>2021-09-17</td>\n",
       "      <td>2021-07-17</td>\n",
       "      <td>1500 Mass Apartments</td>\n",
       "      <td>1500 Massachusetts Avenue NW\\r\\n\\r\\nWashington...</td>\n",
       "      <td>Washington DC</td>\n",
       "      <td>...</td>\n",
       "      <td>1.0</td>\n",
       "      <td>0.0</td>\n",
       "      <td>0.0</td>\n",
       "      <td>0.0</td>\n",
       "      <td>0.0</td>\n",
       "      <td>0.0</td>\n",
       "      <td>0.0</td>\n",
       "      <td>62.0</td>\n",
       "      <td>Wednesday</td>\n",
       "      <td>0.003597</td>\n",
       "    </tr>\n",
       "    <tr>\n",
       "      <th>4</th>\n",
       "      <td>1753</td>\n",
       "      <td>1</td>\n",
       "      <td>1</td>\n",
       "      <td>580</td>\n",
       "      <td>3</td>\n",
       "      <td>2021-10-05</td>\n",
       "      <td>2021-07-17</td>\n",
       "      <td>1500 Mass Apartments</td>\n",
       "      <td>1500 Massachusetts Avenue NW\\r\\n\\r\\nWashington...</td>\n",
       "      <td>Washington DC</td>\n",
       "      <td>...</td>\n",
       "      <td>1.0</td>\n",
       "      <td>0.0</td>\n",
       "      <td>0.0</td>\n",
       "      <td>0.0</td>\n",
       "      <td>0.0</td>\n",
       "      <td>0.0</td>\n",
       "      <td>0.0</td>\n",
       "      <td>80.0</td>\n",
       "      <td>Wednesday</td>\n",
       "      <td>0.003597</td>\n",
       "    </tr>\n",
       "  </tbody>\n",
       "</table>\n",
       "<p>5 rows × 26 columns</p>\n",
       "</div>"
      ],
      "text/plain": [
       "   Price  Beds  Baths  sq.ft  Floor Move_in_date Day_Recorded  \\\n",
       "0   2377     0      1    523      5   2021-09-02   2021-07-17   \n",
       "1   2816     1      1    713      2   2021-09-13   2021-07-17   \n",
       "2   3811     2      2   1252      6   2021-10-08   2021-07-17   \n",
       "3   1549     0      1    456      2   2021-09-17   2021-07-17   \n",
       "4   1753     1      1    580      3   2021-10-05   2021-07-17   \n",
       "\n",
       "         Apartment Name                                            Address  \\\n",
       "0  1210 Mass Apartments  1210 Massachusetts Ave, NW\\r\\n\\r\\nWashington D...   \n",
       "1  1210 Mass Apartments  1210 Massachusetts Ave, NW\\r\\n\\r\\nWashington D...   \n",
       "2  1210 Mass Apartments  1210 Massachusetts Ave, NW\\r\\n\\r\\nWashington D...   \n",
       "3  1500 Mass Apartments  1500 Massachusetts Avenue NW\\r\\n\\r\\nWashington...   \n",
       "4  1500 Mass Apartments  1500 Massachusetts Avenue NW\\r\\n\\r\\nWashington...   \n",
       "\n",
       "            City  ...  Walk_In_Closet  Fireplace  City_Skyline  \\\n",
       "0  Washington DC  ...             0.0        0.0           0.0   \n",
       "1  Washington DC  ...             0.0        0.0           0.0   \n",
       "2  Washington DC  ...             0.0        1.0           0.0   \n",
       "3  Washington DC  ...             1.0        0.0           0.0   \n",
       "4  Washington DC  ...             1.0        0.0           0.0   \n",
       "\n",
       "   Kitchen_Island  Stainless_Appliances  Renovated  Office_Space  \\\n",
       "0             0.0                   1.0        1.0           0.0   \n",
       "1             0.0                   1.0        1.0           0.0   \n",
       "2             0.0                   0.0        0.0           0.0   \n",
       "3             0.0                   0.0        0.0           0.0   \n",
       "4             0.0                   0.0        0.0           0.0   \n",
       "\n",
       "   Days_Till_Available  Day_of_the_week_recorded  Estiamted_Vacancy  \n",
       "0                 47.0                 Wednesday           0.020833  \n",
       "1                 58.0                 Wednesday           0.020833  \n",
       "2                 83.0                 Wednesday           0.020833  \n",
       "3                 62.0                 Wednesday           0.003597  \n",
       "4                 80.0                 Wednesday           0.003597  \n",
       "\n",
       "[5 rows x 26 columns]"
      ]
     },
     "execution_count": 19,
     "metadata": {},
     "output_type": "execute_result"
    }
   ],
   "source": [
    "df.head()"
   ]
  },
  {
   "cell_type": "code",
   "execution_count": 20,
   "id": "8eec174e",
   "metadata": {},
   "outputs": [
    {
     "name": "stdout",
     "output_type": "stream",
     "text": [
      "47.0\n",
      "Day_Recorded index=0 2021-07-17 00:00:00\n",
      "move_in_date index-0 2021-09-02 00:00:00\n",
      "new date 2021-09-02 00:00:00\n"
     ]
    }
   ],
   "source": [
    "# timedelta() are used for diff between dates\n",
    "\n",
    "days=df.Days_Till_Available[0]\n",
    "\n",
    "print(days)\n",
    "\n",
    "print(\"Day_Recorded index=0\",df.Day_Recorded[0])\n",
    "\n",
    "print(\"move_in_date index-0\",df.Move_in_date[0])\n",
    "\n",
    "a=df.Day_Recorded[0]+dt.timedelta(days=df.Days_Till_Available[0])\n",
    "\n",
    "print(\"new date\",a)"
   ]
  },
  {
   "cell_type": "markdown",
   "id": "f0c33e3d",
   "metadata": {},
   "source": [
    "In \"Move_in_date\" column there are missing value , There are other column \"Days_Till_Available\" ,if we add the value \"Days_Till_Available\" column with \"Day_Recorded\" the same Date in \"Move_in_Date\" column."
   ]
  },
  {
   "cell_type": "code",
   "execution_count": 22,
   "id": "c7eabf59",
   "metadata": {},
   "outputs": [],
   "source": [
    "df['Move_in_date(new)'] = a"
   ]
  },
  {
   "cell_type": "code",
   "execution_count": 23,
   "id": "dacaa037",
   "metadata": {
    "scrolled": true
   },
   "outputs": [
    {
     "data": {
      "text/html": [
       "<div>\n",
       "<style scoped>\n",
       "    .dataframe tbody tr th:only-of-type {\n",
       "        vertical-align: middle;\n",
       "    }\n",
       "\n",
       "    .dataframe tbody tr th {\n",
       "        vertical-align: top;\n",
       "    }\n",
       "\n",
       "    .dataframe thead th {\n",
       "        text-align: right;\n",
       "    }\n",
       "</style>\n",
       "<table border=\"1\" class=\"dataframe\">\n",
       "  <thead>\n",
       "    <tr style=\"text-align: right;\">\n",
       "      <th></th>\n",
       "      <th>Move_in_date</th>\n",
       "      <th>Move_in_date(new)</th>\n",
       "    </tr>\n",
       "  </thead>\n",
       "  <tbody>\n",
       "    <tr>\n",
       "      <th>0</th>\n",
       "      <td>2021-09-02</td>\n",
       "      <td>2021-09-02</td>\n",
       "    </tr>\n",
       "    <tr>\n",
       "      <th>1</th>\n",
       "      <td>2021-09-13</td>\n",
       "      <td>2021-09-02</td>\n",
       "    </tr>\n",
       "    <tr>\n",
       "      <th>2</th>\n",
       "      <td>2021-10-08</td>\n",
       "      <td>2021-09-02</td>\n",
       "    </tr>\n",
       "    <tr>\n",
       "      <th>3</th>\n",
       "      <td>2021-09-17</td>\n",
       "      <td>2021-09-02</td>\n",
       "    </tr>\n",
       "    <tr>\n",
       "      <th>4</th>\n",
       "      <td>2021-10-05</td>\n",
       "      <td>2021-09-02</td>\n",
       "    </tr>\n",
       "    <tr>\n",
       "      <th>...</th>\n",
       "      <td>...</td>\n",
       "      <td>...</td>\n",
       "    </tr>\n",
       "    <tr>\n",
       "      <th>62805</th>\n",
       "      <td>2021-06-29</td>\n",
       "      <td>2021-09-02</td>\n",
       "    </tr>\n",
       "    <tr>\n",
       "      <th>62806</th>\n",
       "      <td>2021-07-17</td>\n",
       "      <td>2021-09-02</td>\n",
       "    </tr>\n",
       "    <tr>\n",
       "      <th>62807</th>\n",
       "      <td>2021-07-27</td>\n",
       "      <td>2021-09-02</td>\n",
       "    </tr>\n",
       "    <tr>\n",
       "      <th>62808</th>\n",
       "      <td>2021-08-21</td>\n",
       "      <td>2021-09-02</td>\n",
       "    </tr>\n",
       "    <tr>\n",
       "      <th>62809</th>\n",
       "      <td>2021-07-21</td>\n",
       "      <td>2021-09-02</td>\n",
       "    </tr>\n",
       "  </tbody>\n",
       "</table>\n",
       "<p>62810 rows × 2 columns</p>\n",
       "</div>"
      ],
      "text/plain": [
       "      Move_in_date Move_in_date(new)\n",
       "0       2021-09-02        2021-09-02\n",
       "1       2021-09-13        2021-09-02\n",
       "2       2021-10-08        2021-09-02\n",
       "3       2021-09-17        2021-09-02\n",
       "4       2021-10-05        2021-09-02\n",
       "...            ...               ...\n",
       "62805   2021-06-29        2021-09-02\n",
       "62806   2021-07-17        2021-09-02\n",
       "62807   2021-07-27        2021-09-02\n",
       "62808   2021-08-21        2021-09-02\n",
       "62809   2021-07-21        2021-09-02\n",
       "\n",
       "[62810 rows x 2 columns]"
      ]
     },
     "execution_count": 23,
     "metadata": {},
     "output_type": "execute_result"
    }
   ],
   "source": [
    "df[['Move_in_date','Move_in_date(new)']]"
   ]
  },
  {
   "cell_type": "markdown",
   "id": "8e9ee367",
   "metadata": {},
   "source": [
    "Here We can see Old Column Move in date is completely identical with New Move In date without any null values, so we do not need old column."
   ]
  },
  {
   "cell_type": "code",
   "execution_count": 24,
   "id": "619ad955",
   "metadata": {},
   "outputs": [],
   "source": [
    "df.drop(\"Move_in_date\",axis=1,inplace=True)"
   ]
  },
  {
   "cell_type": "code",
   "execution_count": 25,
   "id": "c6573687",
   "metadata": {
    "scrolled": true
   },
   "outputs": [
    {
     "data": {
      "text/plain": [
       "Price                       0\n",
       "Beds                        0\n",
       "Baths                       0\n",
       "sq.ft                       0\n",
       "Floor                       0\n",
       "Day_Recorded                0\n",
       "Apartment Name              0\n",
       "Address                     0\n",
       "City                        0\n",
       "Units                       0\n",
       "Northern_Exposure           0\n",
       "Southern_Exposure           0\n",
       "Eastern_Exposure            0\n",
       "Western_Exposure            0\n",
       "Balcony                     0\n",
       "Walk_In_Closet              0\n",
       "Fireplace                   0\n",
       "City_Skyline                0\n",
       "Kitchen_Island              0\n",
       "Stainless_Appliances        0\n",
       "Renovated                   0\n",
       "Office_Space                0\n",
       "Days_Till_Available         0\n",
       "Day_of_the_week_recorded    0\n",
       "Estiamted_Vacancy           0\n",
       "Move_in_date(new)           0\n",
       "dtype: int64"
      ]
     },
     "execution_count": 25,
     "metadata": {},
     "output_type": "execute_result"
    }
   ],
   "source": [
    "df.isnull().sum()"
   ]
  },
  {
   "cell_type": "code",
   "execution_count": 66,
   "id": "628b7b09",
   "metadata": {},
   "outputs": [
    {
     "name": "stderr",
     "output_type": "stream",
     "text": [
      "C:\\Users\\SHUBHAM\\anaconda3\\lib\\site-packages\\seaborn\\distributions.py:2557: FutureWarning: `distplot` is a deprecated function and will be removed in a future version. Please adapt your code to use either `displot` (a figure-level function with similar flexibility) or `histplot` (an axes-level function for histograms).\n",
      "  warnings.warn(msg, FutureWarning)\n"
     ]
    },
    {
     "data": {
      "text/plain": [
       "<AxesSubplot:xlabel='Price', ylabel='Density'>"
      ]
     },
     "execution_count": 66,
     "metadata": {},
     "output_type": "execute_result"
    },
    {
     "data": {
      "image/png": "[encoded data removed]",
      "text/plain": [
       "<Figure size 432x288 with 1 Axes>"
      ]
     },
     "metadata": {
      "needs_background": "light"
     },
     "output_type": "display_data"
    }
   ],
   "source": [
    "plt.figure(figsize=(6,4))\n",
    "sns.distplot(df.Price,kde=True)"
   ]
  },
  {
   "cell_type": "code",
   "execution_count": 27,
   "id": "9bed1fec",
   "metadata": {},
   "outputs": [
    {
     "data": {
      "text/plain": [
       "count    62810.000000\n",
       "mean      3000.848559\n",
       "std       1009.977924\n",
       "min       1211.000000\n",
       "25%       2289.000000\n",
       "50%       2803.000000\n",
       "75%       3453.000000\n",
       "max       9890.000000\n",
       "Name: Price, dtype: float64"
      ]
     },
     "execution_count": 27,
     "metadata": {},
     "output_type": "execute_result"
    }
   ],
   "source": [
    "df['Price'].describe()"
   ]
  },
  {
   "cell_type": "code",
   "execution_count": 65,
   "id": "5baacf89",
   "metadata": {
    "scrolled": true
   },
   "outputs": [
    {
     "name": "stderr",
     "output_type": "stream",
     "text": [
      "C:\\Users\\SHUBHAM\\anaconda3\\lib\\site-packages\\seaborn\\distributions.py:2557: FutureWarning: `distplot` is a deprecated function and will be removed in a future version. Please adapt your code to use either `displot` (a figure-level function with similar flexibility) or `histplot` (an axes-level function for histograms).\n",
      "  warnings.warn(msg, FutureWarning)\n"
     ]
    },
    {
     "data": {
      "text/plain": [
       "<AxesSubplot:xlabel='Beds', ylabel='Density'>"
      ]
     },
     "execution_count": 65,
     "metadata": {},
     "output_type": "execute_result"
    },
    {
     "data": {
      "image/png": "[encoded data removed]",
      "text/plain": [
       "<Figure size 432x288 with 1 Axes>"
      ]
     },
     "metadata": {
      "needs_background": "light"
     },
     "output_type": "display_data"
    }
   ],
   "source": [
    "plt.figure(figsize=(6,4))\n",
    "sns.distplot(df.Beds,kde=True)"
   ]
  },
  {
   "cell_type": "code",
   "execution_count": 67,
   "id": "b7e5d8ef",
   "metadata": {},
   "outputs": [
    {
     "name": "stderr",
     "output_type": "stream",
     "text": [
      "C:\\Users\\SHUBHAM\\anaconda3\\lib\\site-packages\\seaborn\\distributions.py:2557: FutureWarning: `distplot` is a deprecated function and will be removed in a future version. Please adapt your code to use either `displot` (a figure-level function with similar flexibility) or `histplot` (an axes-level function for histograms).\n",
      "  warnings.warn(msg, FutureWarning)\n"
     ]
    },
    {
     "data": {
      "text/plain": [
       "<AxesSubplot:xlabel='Baths', ylabel='Density'>"
      ]
     },
     "execution_count": 67,
     "metadata": {},
     "output_type": "execute_result"
    },
    {
     "data": {
      "image/png": "[encoded data removed]",
      "text/plain": [
       "<Figure size 576x432 with 1 Axes>"
      ]
     },
     "metadata": {
      "needs_background": "light"
     },
     "output_type": "display_data"
    }
   ],
   "source": [
    "plt.figure(figsize=(8,6))\n",
    "sns.distplot(df.Baths,kde=True)"
   ]
  },
  {
   "cell_type": "code",
   "execution_count": 30,
   "id": "a0ca40b9",
   "metadata": {
    "scrolled": true
   },
   "outputs": [
    {
     "name": "stderr",
     "output_type": "stream",
     "text": [
      "C:\\Users\\SHUBHAM\\anaconda3\\lib\\site-packages\\seaborn\\distributions.py:2557: FutureWarning: `distplot` is a deprecated function and will be removed in a future version. Please adapt your code to use either `displot` (a figure-level function with similar flexibility) or `histplot` (an axes-level function for histograms).\n",
      "  warnings.warn(msg, FutureWarning)\n"
     ]
    },
    {
     "data": {
      "text/plain": [
       "<AxesSubplot:xlabel='sq.ft', ylabel='Density'>"
      ]
     },
     "execution_count": 30,
     "metadata": {},
     "output_type": "execute_result"
    },
    {
     "data": {
      "image/png": "[encoded data removed]",
      "text/plain": [
       "<Figure size 432x288 with 1 Axes>"
      ]
     },
     "metadata": {
      "needs_background": "light"
     },
     "output_type": "display_data"
    }
   ],
   "source": [
    "plt.figure(figsize=(6,4))\n",
    "sns.distplot(df['sq.ft'],kde=True)"
   ]
  },
  {
   "cell_type": "code",
   "execution_count": 68,
   "id": "d9881c96",
   "metadata": {
    "scrolled": true
   },
   "outputs": [
    {
     "name": "stderr",
     "output_type": "stream",
     "text": [
      "C:\\Users\\SHUBHAM\\anaconda3\\lib\\site-packages\\seaborn\\distributions.py:2557: FutureWarning: `distplot` is a deprecated function and will be removed in a future version. Please adapt your code to use either `displot` (a figure-level function with similar flexibility) or `histplot` (an axes-level function for histograms).\n",
      "  warnings.warn(msg, FutureWarning)\n"
     ]
    },
    {
     "data": {
      "text/plain": [
       "<AxesSubplot:xlabel='Floor', ylabel='Density'>"
      ]
     },
     "execution_count": 68,
     "metadata": {},
     "output_type": "execute_result"
    },
    {
     "data": {
      "image/png": "[encoded data removed]",
      "text/plain": [
       "<Figure size 432x288 with 1 Axes>"
      ]
     },
     "metadata": {
      "needs_background": "light"
     },
     "output_type": "display_data"
    }
   ],
   "source": [
    "plt.figure(figsize=(6,4))\n",
    "sns.distplot(df.Floor,kde=True)"
   ]
  },
  {
   "cell_type": "code",
   "execution_count": 32,
   "id": "267d593c",
   "metadata": {
    "scrolled": true
   },
   "outputs": [
    {
     "data": {
      "text/html": [
       "<div>\n",
       "<style scoped>\n",
       "    .dataframe tbody tr th:only-of-type {\n",
       "        vertical-align: middle;\n",
       "    }\n",
       "\n",
       "    .dataframe tbody tr th {\n",
       "        vertical-align: top;\n",
       "    }\n",
       "\n",
       "    .dataframe thead th {\n",
       "        text-align: right;\n",
       "    }\n",
       "</style>\n",
       "<table border=\"1\" class=\"dataframe\">\n",
       "  <thead>\n",
       "    <tr style=\"text-align: right;\">\n",
       "      <th></th>\n",
       "      <th>Price</th>\n",
       "      <th>Beds</th>\n",
       "      <th>Baths</th>\n",
       "      <th>sq.ft</th>\n",
       "      <th>Floor</th>\n",
       "      <th>Units</th>\n",
       "      <th>Northern_Exposure</th>\n",
       "      <th>Southern_Exposure</th>\n",
       "      <th>Eastern_Exposure</th>\n",
       "      <th>Western_Exposure</th>\n",
       "      <th>Balcony</th>\n",
       "      <th>Walk_In_Closet</th>\n",
       "      <th>Fireplace</th>\n",
       "      <th>City_Skyline</th>\n",
       "      <th>Kitchen_Island</th>\n",
       "      <th>Stainless_Appliances</th>\n",
       "      <th>Renovated</th>\n",
       "      <th>Office_Space</th>\n",
       "      <th>Days_Till_Available</th>\n",
       "      <th>Estiamted_Vacancy</th>\n",
       "    </tr>\n",
       "  </thead>\n",
       "  <tbody>\n",
       "    <tr>\n",
       "      <th>Price</th>\n",
       "      <td>1.000000</td>\n",
       "      <td>0.455246</td>\n",
       "      <td>0.387458</td>\n",
       "      <td>0.505536</td>\n",
       "      <td>0.373786</td>\n",
       "      <td>-0.115443</td>\n",
       "      <td>0.072003</td>\n",
       "      <td>0.034620</td>\n",
       "      <td>0.051369</td>\n",
       "      <td>0.031287</td>\n",
       "      <td>-0.006333</td>\n",
       "      <td>0.176599</td>\n",
       "      <td>-0.064170</td>\n",
       "      <td>-0.016416</td>\n",
       "      <td>0.008358</td>\n",
       "      <td>0.011411</td>\n",
       "      <td>-0.066252</td>\n",
       "      <td>0.060619</td>\n",
       "      <td>0.038278</td>\n",
       "      <td>0.152380</td>\n",
       "    </tr>\n",
       "    <tr>\n",
       "      <th>Beds</th>\n",
       "      <td>0.455246</td>\n",
       "      <td>1.000000</td>\n",
       "      <td>0.673532</td>\n",
       "      <td>0.860518</td>\n",
       "      <td>-0.154878</td>\n",
       "      <td>-0.003340</td>\n",
       "      <td>0.025584</td>\n",
       "      <td>0.063081</td>\n",
       "      <td>0.034386</td>\n",
       "      <td>-0.004432</td>\n",
       "      <td>0.056058</td>\n",
       "      <td>0.037655</td>\n",
       "      <td>0.177984</td>\n",
       "      <td>-0.031694</td>\n",
       "      <td>0.043874</td>\n",
       "      <td>0.007015</td>\n",
       "      <td>0.046939</td>\n",
       "      <td>0.022150</td>\n",
       "      <td>0.045439</td>\n",
       "      <td>0.076259</td>\n",
       "    </tr>\n",
       "    <tr>\n",
       "      <th>Baths</th>\n",
       "      <td>0.387458</td>\n",
       "      <td>0.673532</td>\n",
       "      <td>1.000000</td>\n",
       "      <td>0.673606</td>\n",
       "      <td>-0.030402</td>\n",
       "      <td>-0.017404</td>\n",
       "      <td>0.051478</td>\n",
       "      <td>0.045219</td>\n",
       "      <td>0.030988</td>\n",
       "      <td>0.016732</td>\n",
       "      <td>0.033785</td>\n",
       "      <td>0.052726</td>\n",
       "      <td>0.133656</td>\n",
       "      <td>-0.006000</td>\n",
       "      <td>0.031498</td>\n",
       "      <td>0.002329</td>\n",
       "      <td>0.018883</td>\n",
       "      <td>0.053568</td>\n",
       "      <td>0.045495</td>\n",
       "      <td>0.050897</td>\n",
       "    </tr>\n",
       "    <tr>\n",
       "      <th>sq.ft</th>\n",
       "      <td>0.505536</td>\n",
       "      <td>0.860518</td>\n",
       "      <td>0.673606</td>\n",
       "      <td>1.000000</td>\n",
       "      <td>-0.068601</td>\n",
       "      <td>0.055204</td>\n",
       "      <td>0.050929</td>\n",
       "      <td>0.052718</td>\n",
       "      <td>0.040961</td>\n",
       "      <td>0.011372</td>\n",
       "      <td>0.093358</td>\n",
       "      <td>0.069976</td>\n",
       "      <td>0.154803</td>\n",
       "      <td>-0.035590</td>\n",
       "      <td>0.051629</td>\n",
       "      <td>0.076679</td>\n",
       "      <td>-0.006568</td>\n",
       "      <td>0.148114</td>\n",
       "      <td>0.061627</td>\n",
       "      <td>0.095826</td>\n",
       "    </tr>\n",
       "    <tr>\n",
       "      <th>Floor</th>\n",
       "      <td>0.373786</td>\n",
       "      <td>-0.154878</td>\n",
       "      <td>-0.030402</td>\n",
       "      <td>-0.068601</td>\n",
       "      <td>1.000000</td>\n",
       "      <td>0.075997</td>\n",
       "      <td>0.035632</td>\n",
       "      <td>-0.031698</td>\n",
       "      <td>0.023049</td>\n",
       "      <td>0.067749</td>\n",
       "      <td>-0.055852</td>\n",
       "      <td>0.053958</td>\n",
       "      <td>-0.148665</td>\n",
       "      <td>0.082530</td>\n",
       "      <td>-0.030471</td>\n",
       "      <td>0.074851</td>\n",
       "      <td>-0.098520</td>\n",
       "      <td>-0.035884</td>\n",
       "      <td>0.086618</td>\n",
       "      <td>0.115788</td>\n",
       "    </tr>\n",
       "    <tr>\n",
       "      <th>Units</th>\n",
       "      <td>-0.115443</td>\n",
       "      <td>-0.003340</td>\n",
       "      <td>-0.017404</td>\n",
       "      <td>0.055204</td>\n",
       "      <td>0.075997</td>\n",
       "      <td>1.000000</td>\n",
       "      <td>0.036464</td>\n",
       "      <td>-0.002199</td>\n",
       "      <td>0.057633</td>\n",
       "      <td>0.046326</td>\n",
       "      <td>0.042121</td>\n",
       "      <td>-0.002144</td>\n",
       "      <td>0.061376</td>\n",
       "      <td>-0.034615</td>\n",
       "      <td>0.041387</td>\n",
       "      <td>0.015800</td>\n",
       "      <td>0.045242</td>\n",
       "      <td>0.032660</td>\n",
       "      <td>0.041420</td>\n",
       "      <td>-0.242157</td>\n",
       "    </tr>\n",
       "    <tr>\n",
       "      <th>Northern_Exposure</th>\n",
       "      <td>0.072003</td>\n",
       "      <td>0.025584</td>\n",
       "      <td>0.051478</td>\n",
       "      <td>0.050929</td>\n",
       "      <td>0.035632</td>\n",
       "      <td>0.036464</td>\n",
       "      <td>1.000000</td>\n",
       "      <td>-0.217175</td>\n",
       "      <td>0.020221</td>\n",
       "      <td>0.001503</td>\n",
       "      <td>-0.016794</td>\n",
       "      <td>0.026850</td>\n",
       "      <td>0.050418</td>\n",
       "      <td>-0.054405</td>\n",
       "      <td>-0.005762</td>\n",
       "      <td>0.092127</td>\n",
       "      <td>0.053139</td>\n",
       "      <td>0.059881</td>\n",
       "      <td>0.086888</td>\n",
       "      <td>-0.049009</td>\n",
       "    </tr>\n",
       "    <tr>\n",
       "      <th>Southern_Exposure</th>\n",
       "      <td>0.034620</td>\n",
       "      <td>0.063081</td>\n",
       "      <td>0.045219</td>\n",
       "      <td>0.052718</td>\n",
       "      <td>-0.031698</td>\n",
       "      <td>-0.002199</td>\n",
       "      <td>-0.217175</td>\n",
       "      <td>1.000000</td>\n",
       "      <td>0.011915</td>\n",
       "      <td>-0.020288</td>\n",
       "      <td>0.005950</td>\n",
       "      <td>0.037769</td>\n",
       "      <td>0.017516</td>\n",
       "      <td>-0.053173</td>\n",
       "      <td>0.021698</td>\n",
       "      <td>0.042491</td>\n",
       "      <td>0.031852</td>\n",
       "      <td>0.005412</td>\n",
       "      <td>0.064185</td>\n",
       "      <td>-0.045472</td>\n",
       "    </tr>\n",
       "    <tr>\n",
       "      <th>Eastern_Exposure</th>\n",
       "      <td>0.051369</td>\n",
       "      <td>0.034386</td>\n",
       "      <td>0.030988</td>\n",
       "      <td>0.040961</td>\n",
       "      <td>0.023049</td>\n",
       "      <td>0.057633</td>\n",
       "      <td>0.020221</td>\n",
       "      <td>0.011915</td>\n",
       "      <td>1.000000</td>\n",
       "      <td>-0.244637</td>\n",
       "      <td>0.017351</td>\n",
       "      <td>-0.011855</td>\n",
       "      <td>0.054081</td>\n",
       "      <td>-0.026287</td>\n",
       "      <td>-0.031840</td>\n",
       "      <td>0.054422</td>\n",
       "      <td>0.078307</td>\n",
       "      <td>0.030243</td>\n",
       "      <td>0.024257</td>\n",
       "      <td>-0.094738</td>\n",
       "    </tr>\n",
       "    <tr>\n",
       "      <th>Western_Exposure</th>\n",
       "      <td>0.031287</td>\n",
       "      <td>-0.004432</td>\n",
       "      <td>0.016732</td>\n",
       "      <td>0.011372</td>\n",
       "      <td>0.067749</td>\n",
       "      <td>0.046326</td>\n",
       "      <td>0.001503</td>\n",
       "      <td>-0.020288</td>\n",
       "      <td>-0.244637</td>\n",
       "      <td>1.000000</td>\n",
       "      <td>0.004673</td>\n",
       "      <td>-0.009030</td>\n",
       "      <td>0.047778</td>\n",
       "      <td>-0.044984</td>\n",
       "      <td>-0.014814</td>\n",
       "      <td>0.050877</td>\n",
       "      <td>0.067241</td>\n",
       "      <td>0.017452</td>\n",
       "      <td>0.021470</td>\n",
       "      <td>-0.093139</td>\n",
       "    </tr>\n",
       "    <tr>\n",
       "      <th>Balcony</th>\n",
       "      <td>-0.006333</td>\n",
       "      <td>0.056058</td>\n",
       "      <td>0.033785</td>\n",
       "      <td>0.093358</td>\n",
       "      <td>-0.055852</td>\n",
       "      <td>0.042121</td>\n",
       "      <td>-0.016794</td>\n",
       "      <td>0.005950</td>\n",
       "      <td>0.017351</td>\n",
       "      <td>0.004673</td>\n",
       "      <td>1.000000</td>\n",
       "      <td>0.102640</td>\n",
       "      <td>-0.002645</td>\n",
       "      <td>-0.032021</td>\n",
       "      <td>0.065509</td>\n",
       "      <td>0.069122</td>\n",
       "      <td>0.006354</td>\n",
       "      <td>0.061600</td>\n",
       "      <td>-0.053282</td>\n",
       "      <td>0.025631</td>\n",
       "    </tr>\n",
       "    <tr>\n",
       "      <th>Walk_In_Closet</th>\n",
       "      <td>0.176599</td>\n",
       "      <td>0.037655</td>\n",
       "      <td>0.052726</td>\n",
       "      <td>0.069976</td>\n",
       "      <td>0.053958</td>\n",
       "      <td>-0.002144</td>\n",
       "      <td>0.026850</td>\n",
       "      <td>0.037769</td>\n",
       "      <td>-0.011855</td>\n",
       "      <td>-0.009030</td>\n",
       "      <td>0.102640</td>\n",
       "      <td>1.000000</td>\n",
       "      <td>0.001594</td>\n",
       "      <td>0.008721</td>\n",
       "      <td>0.090773</td>\n",
       "      <td>-0.009556</td>\n",
       "      <td>0.011334</td>\n",
       "      <td>0.015756</td>\n",
       "      <td>0.086933</td>\n",
       "      <td>0.076119</td>\n",
       "    </tr>\n",
       "    <tr>\n",
       "      <th>Fireplace</th>\n",
       "      <td>-0.064170</td>\n",
       "      <td>0.177984</td>\n",
       "      <td>0.133656</td>\n",
       "      <td>0.154803</td>\n",
       "      <td>-0.148665</td>\n",
       "      <td>0.061376</td>\n",
       "      <td>0.050418</td>\n",
       "      <td>0.017516</td>\n",
       "      <td>0.054081</td>\n",
       "      <td>0.047778</td>\n",
       "      <td>-0.002645</td>\n",
       "      <td>0.001594</td>\n",
       "      <td>1.000000</td>\n",
       "      <td>0.003619</td>\n",
       "      <td>0.036983</td>\n",
       "      <td>-0.021715</td>\n",
       "      <td>0.123531</td>\n",
       "      <td>0.006482</td>\n",
       "      <td>0.000016</td>\n",
       "      <td>-0.058853</td>\n",
       "    </tr>\n",
       "    <tr>\n",
       "      <th>City_Skyline</th>\n",
       "      <td>-0.016416</td>\n",
       "      <td>-0.031694</td>\n",
       "      <td>-0.006000</td>\n",
       "      <td>-0.035590</td>\n",
       "      <td>0.082530</td>\n",
       "      <td>-0.034615</td>\n",
       "      <td>-0.054405</td>\n",
       "      <td>-0.053173</td>\n",
       "      <td>-0.026287</td>\n",
       "      <td>-0.044984</td>\n",
       "      <td>-0.032021</td>\n",
       "      <td>0.008721</td>\n",
       "      <td>0.003619</td>\n",
       "      <td>1.000000</td>\n",
       "      <td>0.000370</td>\n",
       "      <td>-0.033610</td>\n",
       "      <td>0.015342</td>\n",
       "      <td>-0.012314</td>\n",
       "      <td>-0.029278</td>\n",
       "      <td>-0.004229</td>\n",
       "    </tr>\n",
       "    <tr>\n",
       "      <th>Kitchen_Island</th>\n",
       "      <td>0.008358</td>\n",
       "      <td>0.043874</td>\n",
       "      <td>0.031498</td>\n",
       "      <td>0.051629</td>\n",
       "      <td>-0.030471</td>\n",
       "      <td>0.041387</td>\n",
       "      <td>-0.005762</td>\n",
       "      <td>0.021698</td>\n",
       "      <td>-0.031840</td>\n",
       "      <td>-0.014814</td>\n",
       "      <td>0.065509</td>\n",
       "      <td>0.090773</td>\n",
       "      <td>0.036983</td>\n",
       "      <td>0.000370</td>\n",
       "      <td>1.000000</td>\n",
       "      <td>-0.058343</td>\n",
       "      <td>0.014609</td>\n",
       "      <td>0.058744</td>\n",
       "      <td>0.027737</td>\n",
       "      <td>-0.052170</td>\n",
       "    </tr>\n",
       "    <tr>\n",
       "      <th>Stainless_Appliances</th>\n",
       "      <td>0.011411</td>\n",
       "      <td>0.007015</td>\n",
       "      <td>0.002329</td>\n",
       "      <td>0.076679</td>\n",
       "      <td>0.074851</td>\n",
       "      <td>0.015800</td>\n",
       "      <td>0.092127</td>\n",
       "      <td>0.042491</td>\n",
       "      <td>0.054422</td>\n",
       "      <td>0.050877</td>\n",
       "      <td>0.069122</td>\n",
       "      <td>-0.009556</td>\n",
       "      <td>-0.021715</td>\n",
       "      <td>-0.033610</td>\n",
       "      <td>-0.058343</td>\n",
       "      <td>1.000000</td>\n",
       "      <td>-0.035997</td>\n",
       "      <td>0.024503</td>\n",
       "      <td>0.017133</td>\n",
       "      <td>-0.043752</td>\n",
       "    </tr>\n",
       "    <tr>\n",
       "      <th>Renovated</th>\n",
       "      <td>-0.066252</td>\n",
       "      <td>0.046939</td>\n",
       "      <td>0.018883</td>\n",
       "      <td>-0.006568</td>\n",
       "      <td>-0.098520</td>\n",
       "      <td>0.045242</td>\n",
       "      <td>0.053139</td>\n",
       "      <td>0.031852</td>\n",
       "      <td>0.078307</td>\n",
       "      <td>0.067241</td>\n",
       "      <td>0.006354</td>\n",
       "      <td>0.011334</td>\n",
       "      <td>0.123531</td>\n",
       "      <td>0.015342</td>\n",
       "      <td>0.014609</td>\n",
       "      <td>-0.035997</td>\n",
       "      <td>1.000000</td>\n",
       "      <td>-0.042070</td>\n",
       "      <td>0.034090</td>\n",
       "      <td>-0.089071</td>\n",
       "    </tr>\n",
       "    <tr>\n",
       "      <th>Office_Space</th>\n",
       "      <td>0.060619</td>\n",
       "      <td>0.022150</td>\n",
       "      <td>0.053568</td>\n",
       "      <td>0.148114</td>\n",
       "      <td>-0.035884</td>\n",
       "      <td>0.032660</td>\n",
       "      <td>0.059881</td>\n",
       "      <td>0.005412</td>\n",
       "      <td>0.030243</td>\n",
       "      <td>0.017452</td>\n",
       "      <td>0.061600</td>\n",
       "      <td>0.015756</td>\n",
       "      <td>0.006482</td>\n",
       "      <td>-0.012314</td>\n",
       "      <td>0.058744</td>\n",
       "      <td>0.024503</td>\n",
       "      <td>-0.042070</td>\n",
       "      <td>1.000000</td>\n",
       "      <td>-0.024909</td>\n",
       "      <td>-0.031587</td>\n",
       "    </tr>\n",
       "    <tr>\n",
       "      <th>Days_Till_Available</th>\n",
       "      <td>0.038278</td>\n",
       "      <td>0.045439</td>\n",
       "      <td>0.045495</td>\n",
       "      <td>0.061627</td>\n",
       "      <td>0.086618</td>\n",
       "      <td>0.041420</td>\n",
       "      <td>0.086888</td>\n",
       "      <td>0.064185</td>\n",
       "      <td>0.024257</td>\n",
       "      <td>0.021470</td>\n",
       "      <td>-0.053282</td>\n",
       "      <td>0.086933</td>\n",
       "      <td>0.000016</td>\n",
       "      <td>-0.029278</td>\n",
       "      <td>0.027737</td>\n",
       "      <td>0.017133</td>\n",
       "      <td>0.034090</td>\n",
       "      <td>-0.024909</td>\n",
       "      <td>1.000000</td>\n",
       "      <td>0.047942</td>\n",
       "    </tr>\n",
       "    <tr>\n",
       "      <th>Estiamted_Vacancy</th>\n",
       "      <td>0.152380</td>\n",
       "      <td>0.076259</td>\n",
       "      <td>0.050897</td>\n",
       "      <td>0.095826</td>\n",
       "      <td>0.115788</td>\n",
       "      <td>-0.242157</td>\n",
       "      <td>-0.049009</td>\n",
       "      <td>-0.045472</td>\n",
       "      <td>-0.094738</td>\n",
       "      <td>-0.093139</td>\n",
       "      <td>0.025631</td>\n",
       "      <td>0.076119</td>\n",
       "      <td>-0.058853</td>\n",
       "      <td>-0.004229</td>\n",
       "      <td>-0.052170</td>\n",
       "      <td>-0.043752</td>\n",
       "      <td>-0.089071</td>\n",
       "      <td>-0.031587</td>\n",
       "      <td>0.047942</td>\n",
       "      <td>1.000000</td>\n",
       "    </tr>\n",
       "  </tbody>\n",
       "</table>\n",
       "</div>"
      ],
      "text/plain": [
       "                         Price      Beds     Baths     sq.ft     Floor  \\\n",
       "Price                 1.000000  0.455246  0.387458  0.505536  0.373786   \n",
       "Beds                  0.455246  1.000000  0.673532  0.860518 -0.154878   \n",
       "Baths                 0.387458  0.673532  1.000000  0.673606 -0.030402   \n",
       "sq.ft                 0.505536  0.860518  0.673606  1.000000 -0.068601   \n",
       "Floor                 0.373786 -0.154878 -0.030402 -0.068601  1.000000   \n",
       "Units                -0.115443 -0.003340 -0.017404  0.055204  0.075997   \n",
       "Northern_Exposure     0.072003  0.025584  0.051478  0.050929  0.035632   \n",
       "Southern_Exposure     0.034620  0.063081  0.045219  0.052718 -0.031698   \n",
       "Eastern_Exposure      0.051369  0.034386  0.030988  0.040961  0.023049   \n",
       "Western_Exposure      0.031287 -0.004432  0.016732  0.011372  0.067749   \n",
       "Balcony              -0.006333  0.056058  0.033785  0.093358 -0.055852   \n",
       "Walk_In_Closet        0.176599  0.037655  0.052726  0.069976  0.053958   \n",
       "Fireplace            -0.064170  0.177984  0.133656  0.154803 -0.148665   \n",
       "City_Skyline         -0.016416 -0.031694 -0.006000 -0.035590  0.082530   \n",
       "Kitchen_Island        0.008358  0.043874  0.031498  0.051629 -0.030471   \n",
       "Stainless_Appliances  0.011411  0.007015  0.002329  0.076679  0.074851   \n",
       "Renovated            -0.066252  0.046939  0.018883 -0.006568 -0.098520   \n",
       "Office_Space          0.060619  0.022150  0.053568  0.148114 -0.035884   \n",
       "Days_Till_Available   0.038278  0.045439  0.045495  0.061627  0.086618   \n",
       "Estiamted_Vacancy     0.152380  0.076259  0.050897  0.095826  0.115788   \n",
       "\n",
       "                         Units  Northern_Exposure  Southern_Exposure  \\\n",
       "Price                -0.115443           0.072003           0.034620   \n",
       "Beds                 -0.003340           0.025584           0.063081   \n",
       "Baths                -0.017404           0.051478           0.045219   \n",
       "sq.ft                 0.055204           0.050929           0.052718   \n",
       "Floor                 0.075997           0.035632          -0.031698   \n",
       "Units                 1.000000           0.036464          -0.002199   \n",
       "Northern_Exposure     0.036464           1.000000          -0.217175   \n",
       "Southern_Exposure    -0.002199          -0.217175           1.000000   \n",
       "Eastern_Exposure      0.057633           0.020221           0.011915   \n",
       "Western_Exposure      0.046326           0.001503          -0.020288   \n",
       "Balcony               0.042121          -0.016794           0.005950   \n",
       "Walk_In_Closet       -0.002144           0.026850           0.037769   \n",
       "Fireplace             0.061376           0.050418           0.017516   \n",
       "City_Skyline         -0.034615          -0.054405          -0.053173   \n",
       "Kitchen_Island        0.041387          -0.005762           0.021698   \n",
       "Stainless_Appliances  0.015800           0.092127           0.042491   \n",
       "Renovated             0.045242           0.053139           0.031852   \n",
       "Office_Space          0.032660           0.059881           0.005412   \n",
       "Days_Till_Available   0.041420           0.086888           0.064185   \n",
       "Estiamted_Vacancy    -0.242157          -0.049009          -0.045472   \n",
       "\n",
       "                      Eastern_Exposure  Western_Exposure   Balcony  \\\n",
       "Price                         0.051369          0.031287 -0.006333   \n",
       "Beds                          0.034386         -0.004432  0.056058   \n",
       "Baths                         0.030988          0.016732  0.033785   \n",
       "sq.ft                         0.040961          0.011372  0.093358   \n",
       "Floor                         0.023049          0.067749 -0.055852   \n",
       "Units                         0.057633          0.046326  0.042121   \n",
       "Northern_Exposure             0.020221          0.001503 -0.016794   \n",
       "Southern_Exposure             0.011915         -0.020288  0.005950   \n",
       "Eastern_Exposure              1.000000         -0.244637  0.017351   \n",
       "Western_Exposure             -0.244637          1.000000  0.004673   \n",
       "Balcony                       0.017351          0.004673  1.000000   \n",
       "Walk_In_Closet               -0.011855         -0.009030  0.102640   \n",
       "Fireplace                     0.054081          0.047778 -0.002645   \n",
       "City_Skyline                 -0.026287         -0.044984 -0.032021   \n",
       "Kitchen_Island               -0.031840         -0.014814  0.065509   \n",
       "Stainless_Appliances          0.054422          0.050877  0.069122   \n",
       "Renovated                     0.078307          0.067241  0.006354   \n",
       "Office_Space                  0.030243          0.017452  0.061600   \n",
       "Days_Till_Available           0.024257          0.021470 -0.053282   \n",
       "Estiamted_Vacancy            -0.094738         -0.093139  0.025631   \n",
       "\n",
       "                      Walk_In_Closet  Fireplace  City_Skyline  Kitchen_Island  \\\n",
       "Price                       0.176599  -0.064170     -0.016416        0.008358   \n",
       "Beds                        0.037655   0.177984     -0.031694        0.043874   \n",
       "Baths                       0.052726   0.133656     -0.006000        0.031498   \n",
       "sq.ft                       0.069976   0.154803     -0.035590        0.051629   \n",
       "Floor                       0.053958  -0.148665      0.082530       -0.030471   \n",
       "Units                      -0.002144   0.061376     -0.034615        0.041387   \n",
       "Northern_Exposure           0.026850   0.050418     -0.054405       -0.005762   \n",
       "Southern_Exposure           0.037769   0.017516     -0.053173        0.021698   \n",
       "Eastern_Exposure           -0.011855   0.054081     -0.026287       -0.031840   \n",
       "Western_Exposure           -0.009030   0.047778     -0.044984       -0.014814   \n",
       "Balcony                     0.102640  -0.002645     -0.032021        0.065509   \n",
       "Walk_In_Closet              1.000000   0.001594      0.008721        0.090773   \n",
       "Fireplace                   0.001594   1.000000      0.003619        0.036983   \n",
       "City_Skyline                0.008721   0.003619      1.000000        0.000370   \n",
       "Kitchen_Island              0.090773   0.036983      0.000370        1.000000   \n",
       "Stainless_Appliances       -0.009556  -0.021715     -0.033610       -0.058343   \n",
       "Renovated                   0.011334   0.123531      0.015342        0.014609   \n",
       "Office_Space                0.015756   0.006482     -0.012314        0.058744   \n",
       "Days_Till_Available         0.086933   0.000016     -0.029278        0.027737   \n",
       "Estiamted_Vacancy           0.076119  -0.058853     -0.004229       -0.052170   \n",
       "\n",
       "                      Stainless_Appliances  Renovated  Office_Space  \\\n",
       "Price                             0.011411  -0.066252      0.060619   \n",
       "Beds                              0.007015   0.046939      0.022150   \n",
       "Baths                             0.002329   0.018883      0.053568   \n",
       "sq.ft                             0.076679  -0.006568      0.148114   \n",
       "Floor                             0.074851  -0.098520     -0.035884   \n",
       "Units                             0.015800   0.045242      0.032660   \n",
       "Northern_Exposure                 0.092127   0.053139      0.059881   \n",
       "Southern_Exposure                 0.042491   0.031852      0.005412   \n",
       "Eastern_Exposure                  0.054422   0.078307      0.030243   \n",
       "Western_Exposure                  0.050877   0.067241      0.017452   \n",
       "Balcony                           0.069122   0.006354      0.061600   \n",
       "Walk_In_Closet                   -0.009556   0.011334      0.015756   \n",
       "Fireplace                        -0.021715   0.123531      0.006482   \n",
       "City_Skyline                     -0.033610   0.015342     -0.012314   \n",
       "Kitchen_Island                   -0.058343   0.014609      0.058744   \n",
       "Stainless_Appliances              1.000000  -0.035997      0.024503   \n",
       "Renovated                        -0.035997   1.000000     -0.042070   \n",
       "Office_Space                      0.024503  -0.042070      1.000000   \n",
       "Days_Till_Available               0.017133   0.034090     -0.024909   \n",
       "Estiamted_Vacancy                -0.043752  -0.089071     -0.031587   \n",
       "\n",
       "                      Days_Till_Available  Estiamted_Vacancy  \n",
       "Price                            0.038278           0.152380  \n",
       "Beds                             0.045439           0.076259  \n",
       "Baths                            0.045495           0.050897  \n",
       "sq.ft                            0.061627           0.095826  \n",
       "Floor                            0.086618           0.115788  \n",
       "Units                            0.041420          -0.242157  \n",
       "Northern_Exposure                0.086888          -0.049009  \n",
       "Southern_Exposure                0.064185          -0.045472  \n",
       "Eastern_Exposure                 0.024257          -0.094738  \n",
       "Western_Exposure                 0.021470          -0.093139  \n",
       "Balcony                         -0.053282           0.025631  \n",
       "Walk_In_Closet                   0.086933           0.076119  \n",
       "Fireplace                        0.000016          -0.058853  \n",
       "City_Skyline                    -0.029278          -0.004229  \n",
       "Kitchen_Island                   0.027737          -0.052170  \n",
       "Stainless_Appliances             0.017133          -0.043752  \n",
       "Renovated                        0.034090          -0.089071  \n",
       "Office_Space                    -0.024909          -0.031587  \n",
       "Days_Till_Available              1.000000           0.047942  \n",
       "Estiamted_Vacancy                0.047942           1.000000  "
      ]
     },
     "execution_count": 32,
     "metadata": {},
     "output_type": "execute_result"
    }
   ],
   "source": [
    "df.corr()"
   ]
  },
  {
   "cell_type": "code",
   "execution_count": 33,
   "id": "f3dfef67",
   "metadata": {},
   "outputs": [
    {
     "data": {
      "text/plain": [
       "<AxesSubplot:>"
      ]
     },
     "execution_count": 33,
     "metadata": {},
     "output_type": "execute_result"
    },
    {
     "data": {
      "image/png": "[encoded data removed]",
      "text/plain": [
       "<Figure size 1440x1080 with 2 Axes>"
      ]
     },
     "metadata": {
      "needs_background": "light"
     },
     "output_type": "display_data"
    }
   ],
   "source": [
    "# Correlation Heatmap\n",
    "\n",
    "\n",
    "plt.figure(figsize=(20,15))\n",
    "sns.heatmap(df.corr(),annot=True,cmap=\"YlGnBu\")"
   ]
  },
  {
   "cell_type": "code",
   "execution_count": 34,
   "id": "1effef41",
   "metadata": {},
   "outputs": [],
   "source": [
    "#drop columns corr() is less than 0.30\n",
    "\n",
    "df2=df.drop(['Day_Recorded','Apartment Name', 'Address', 'Units', 'Northern_Exposure',\n",
    "       'Southern_Exposure', 'Eastern_Exposure', 'Western_Exposure', 'Balcony',\n",
    "       'Walk_In_Closet', 'Fireplace', 'City_Skyline', 'Kitchen_Island',\n",
    "       'Stainless_Appliances', 'Renovated', 'Office_Space',\n",
    "       'Days_Till_Available', 'Day_of_the_week_recorded', 'Estiamted_Vacancy'],axis=1)"
   ]
  },
  {
   "cell_type": "code",
   "execution_count": 35,
   "id": "99f3286a",
   "metadata": {},
   "outputs": [
    {
     "data": {
      "text/html": [
       "<div>\n",
       "<style scoped>\n",
       "    .dataframe tbody tr th:only-of-type {\n",
       "        vertical-align: middle;\n",
       "    }\n",
       "\n",
       "    .dataframe tbody tr th {\n",
       "        vertical-align: top;\n",
       "    }\n",
       "\n",
       "    .dataframe thead th {\n",
       "        text-align: right;\n",
       "    }\n",
       "</style>\n",
       "<table border=\"1\" class=\"dataframe\">\n",
       "  <thead>\n",
       "    <tr style=\"text-align: right;\">\n",
       "      <th></th>\n",
       "      <th>Price</th>\n",
       "      <th>Beds</th>\n",
       "      <th>Baths</th>\n",
       "      <th>sq.ft</th>\n",
       "      <th>Floor</th>\n",
       "      <th>City</th>\n",
       "      <th>Move_in_date(new)</th>\n",
       "    </tr>\n",
       "  </thead>\n",
       "  <tbody>\n",
       "    <tr>\n",
       "      <th>0</th>\n",
       "      <td>2377</td>\n",
       "      <td>0</td>\n",
       "      <td>1</td>\n",
       "      <td>523</td>\n",
       "      <td>5</td>\n",
       "      <td>Washington DC</td>\n",
       "      <td>2021-09-02</td>\n",
       "    </tr>\n",
       "    <tr>\n",
       "      <th>1</th>\n",
       "      <td>2816</td>\n",
       "      <td>1</td>\n",
       "      <td>1</td>\n",
       "      <td>713</td>\n",
       "      <td>2</td>\n",
       "      <td>Washington DC</td>\n",
       "      <td>2021-09-02</td>\n",
       "    </tr>\n",
       "    <tr>\n",
       "      <th>2</th>\n",
       "      <td>3811</td>\n",
       "      <td>2</td>\n",
       "      <td>2</td>\n",
       "      <td>1252</td>\n",
       "      <td>6</td>\n",
       "      <td>Washington DC</td>\n",
       "      <td>2021-09-02</td>\n",
       "    </tr>\n",
       "    <tr>\n",
       "      <th>3</th>\n",
       "      <td>1549</td>\n",
       "      <td>0</td>\n",
       "      <td>1</td>\n",
       "      <td>456</td>\n",
       "      <td>2</td>\n",
       "      <td>Washington DC</td>\n",
       "      <td>2021-09-02</td>\n",
       "    </tr>\n",
       "    <tr>\n",
       "      <th>4</th>\n",
       "      <td>1753</td>\n",
       "      <td>1</td>\n",
       "      <td>1</td>\n",
       "      <td>580</td>\n",
       "      <td>3</td>\n",
       "      <td>Washington DC</td>\n",
       "      <td>2021-09-02</td>\n",
       "    </tr>\n",
       "  </tbody>\n",
       "</table>\n",
       "</div>"
      ],
      "text/plain": [
       "   Price  Beds  Baths  sq.ft  Floor           City Move_in_date(new)\n",
       "0   2377     0      1    523      5  Washington DC        2021-09-02\n",
       "1   2816     1      1    713      2  Washington DC        2021-09-02\n",
       "2   3811     2      2   1252      6  Washington DC        2021-09-02\n",
       "3   1549     0      1    456      2  Washington DC        2021-09-02\n",
       "4   1753     1      1    580      3  Washington DC        2021-09-02"
      ]
     },
     "execution_count": 35,
     "metadata": {},
     "output_type": "execute_result"
    }
   ],
   "source": [
    "df2.head()\n"
   ]
  },
  {
   "cell_type": "code",
   "execution_count": 36,
   "id": "3e350809",
   "metadata": {},
   "outputs": [
    {
     "data": {
      "text/plain": [
       "Washington DC    17507\n",
       "San Francisco    13463\n",
       "New York City     9246\n",
       "Boston            8742\n",
       "Los Angeles       6376\n",
       "Seattle           1936\n",
       "San Diego         1758\n",
       "Orange County     1552\n",
       "Denver            1372\n",
       "Inland Empire      858\n",
       "Name: City, dtype: int64"
      ]
     },
     "execution_count": 36,
     "metadata": {},
     "output_type": "execute_result"
    }
   ],
   "source": [
    "#In city Column there are different city \n",
    "\n",
    "df2.City.value_counts()"
   ]
  },
  {
   "cell_type": "code",
   "execution_count": 37,
   "id": "5828c0aa",
   "metadata": {
    "scrolled": false
   },
   "outputs": [
    {
     "data": {
      "text/html": [
       "<div>\n",
       "<style scoped>\n",
       "    .dataframe tbody tr th:only-of-type {\n",
       "        vertical-align: middle;\n",
       "    }\n",
       "\n",
       "    .dataframe tbody tr th {\n",
       "        vertical-align: top;\n",
       "    }\n",
       "\n",
       "    .dataframe thead th {\n",
       "        text-align: right;\n",
       "    }\n",
       "</style>\n",
       "<table border=\"1\" class=\"dataframe\">\n",
       "  <thead>\n",
       "    <tr style=\"text-align: right;\">\n",
       "      <th></th>\n",
       "      <th>Price</th>\n",
       "      <th>Beds</th>\n",
       "      <th>Baths</th>\n",
       "      <th>sq.ft</th>\n",
       "      <th>Floor</th>\n",
       "      <th>Move_in_date(new)</th>\n",
       "      <th>City_Boston</th>\n",
       "      <th>City_Denver</th>\n",
       "      <th>City_Inland Empire</th>\n",
       "      <th>City_Los Angeles</th>\n",
       "      <th>City_New York City</th>\n",
       "      <th>City_Orange County</th>\n",
       "      <th>City_San Diego</th>\n",
       "      <th>City_San Francisco</th>\n",
       "      <th>City_Seattle</th>\n",
       "      <th>City_Washington DC</th>\n",
       "    </tr>\n",
       "  </thead>\n",
       "  <tbody>\n",
       "    <tr>\n",
       "      <th>0</th>\n",
       "      <td>2377</td>\n",
       "      <td>0</td>\n",
       "      <td>1</td>\n",
       "      <td>523</td>\n",
       "      <td>5</td>\n",
       "      <td>2021-09-02</td>\n",
       "      <td>0</td>\n",
       "      <td>0</td>\n",
       "      <td>0</td>\n",
       "      <td>0</td>\n",
       "      <td>0</td>\n",
       "      <td>0</td>\n",
       "      <td>0</td>\n",
       "      <td>0</td>\n",
       "      <td>0</td>\n",
       "      <td>1</td>\n",
       "    </tr>\n",
       "    <tr>\n",
       "      <th>1</th>\n",
       "      <td>2816</td>\n",
       "      <td>1</td>\n",
       "      <td>1</td>\n",
       "      <td>713</td>\n",
       "      <td>2</td>\n",
       "      <td>2021-09-02</td>\n",
       "      <td>0</td>\n",
       "      <td>0</td>\n",
       "      <td>0</td>\n",
       "      <td>0</td>\n",
       "      <td>0</td>\n",
       "      <td>0</td>\n",
       "      <td>0</td>\n",
       "      <td>0</td>\n",
       "      <td>0</td>\n",
       "      <td>1</td>\n",
       "    </tr>\n",
       "    <tr>\n",
       "      <th>2</th>\n",
       "      <td>3811</td>\n",
       "      <td>2</td>\n",
       "      <td>2</td>\n",
       "      <td>1252</td>\n",
       "      <td>6</td>\n",
       "      <td>2021-09-02</td>\n",
       "      <td>0</td>\n",
       "      <td>0</td>\n",
       "      <td>0</td>\n",
       "      <td>0</td>\n",
       "      <td>0</td>\n",
       "      <td>0</td>\n",
       "      <td>0</td>\n",
       "      <td>0</td>\n",
       "      <td>0</td>\n",
       "      <td>1</td>\n",
       "    </tr>\n",
       "    <tr>\n",
       "      <th>3</th>\n",
       "      <td>1549</td>\n",
       "      <td>0</td>\n",
       "      <td>1</td>\n",
       "      <td>456</td>\n",
       "      <td>2</td>\n",
       "      <td>2021-09-02</td>\n",
       "      <td>0</td>\n",
       "      <td>0</td>\n",
       "      <td>0</td>\n",
       "      <td>0</td>\n",
       "      <td>0</td>\n",
       "      <td>0</td>\n",
       "      <td>0</td>\n",
       "      <td>0</td>\n",
       "      <td>0</td>\n",
       "      <td>1</td>\n",
       "    </tr>\n",
       "    <tr>\n",
       "      <th>4</th>\n",
       "      <td>1753</td>\n",
       "      <td>1</td>\n",
       "      <td>1</td>\n",
       "      <td>580</td>\n",
       "      <td>3</td>\n",
       "      <td>2021-09-02</td>\n",
       "      <td>0</td>\n",
       "      <td>0</td>\n",
       "      <td>0</td>\n",
       "      <td>0</td>\n",
       "      <td>0</td>\n",
       "      <td>0</td>\n",
       "      <td>0</td>\n",
       "      <td>0</td>\n",
       "      <td>0</td>\n",
       "      <td>1</td>\n",
       "    </tr>\n",
       "  </tbody>\n",
       "</table>\n",
       "</div>"
      ],
      "text/plain": [
       "   Price  Beds  Baths  sq.ft  Floor Move_in_date(new)  City_Boston  \\\n",
       "0   2377     0      1    523      5        2021-09-02            0   \n",
       "1   2816     1      1    713      2        2021-09-02            0   \n",
       "2   3811     2      2   1252      6        2021-09-02            0   \n",
       "3   1549     0      1    456      2        2021-09-02            0   \n",
       "4   1753     1      1    580      3        2021-09-02            0   \n",
       "\n",
       "   City_Denver  City_Inland Empire  City_Los Angeles  City_New York City  \\\n",
       "0            0                   0                 0                   0   \n",
       "1            0                   0                 0                   0   \n",
       "2            0                   0                 0                   0   \n",
       "3            0                   0                 0                   0   \n",
       "4            0                   0                 0                   0   \n",
       "\n",
       "   City_Orange County  City_San Diego  City_San Francisco  City_Seattle  \\\n",
       "0                   0               0                   0             0   \n",
       "1                   0               0                   0             0   \n",
       "2                   0               0                   0             0   \n",
       "3                   0               0                   0             0   \n",
       "4                   0               0                   0             0   \n",
       "\n",
       "   City_Washington DC  \n",
       "0                   1  \n",
       "1                   1  \n",
       "2                   1  \n",
       "3                   1  \n",
       "4                   1  "
      ]
     },
     "execution_count": 37,
     "metadata": {},
     "output_type": "execute_result"
    }
   ],
   "source": [
    "#one hat coding\n",
    "\n",
    "df3 = pd.get_dummies(df2)\n",
    "df3.head()"
   ]
  },
  {
   "cell_type": "code",
   "execution_count": 38,
   "id": "70e83230",
   "metadata": {},
   "outputs": [],
   "source": [
    "x = df3[['Beds','Baths','sq.ft','Floor','City_Boston', 'City_Denver', 'City_Los Angeles', 'City_New York City',\n",
    "       'City_Orange County', 'City_San Diego', 'City_San Francisco', 'City_Seattle',\n",
    "       'City_Washington DC','Move_in_date(new)']]\n",
    "y = df3['Price']\n"
   ]
  },
  {
   "cell_type": "code",
   "execution_count": 39,
   "id": "fe66bfda",
   "metadata": {},
   "outputs": [
    {
     "data": {
      "text/plain": [
       "<AxesSubplot:>"
      ]
     },
     "execution_count": 39,
     "metadata": {},
     "output_type": "execute_result"
    },
    {
     "data": {
      "image/png": "[encoded data removed]",
      "text/plain": [
       "<Figure size 1440x1080 with 2 Axes>"
      ]
     },
     "metadata": {
      "needs_background": "light"
     },
     "output_type": "display_data"
    }
   ],
   "source": [
    "# Correlation Heatmap\n",
    "\n",
    "\n",
    "plt.figure(figsize=(20,15))\n",
    "sns.heatmap(df3.corr(),annot=True,cmap=\"YlGnBu\")"
   ]
  },
  {
   "cell_type": "code",
   "execution_count": 40,
   "id": "d67a9dc9",
   "metadata": {},
   "outputs": [],
   "source": [
    "#\n",
    "x=df3[['Beds','Baths','sq.ft','Floor']]\n",
    "\n",
    "\n",
    "#add target columns into y\n",
    "y=df3['Price']"
   ]
  },
  {
   "cell_type": "code",
   "execution_count": 41,
   "id": "fc1c8166",
   "metadata": {},
   "outputs": [
    {
     "data": {
      "text/html": [
       "<div>\n",
       "<style scoped>\n",
       "    .dataframe tbody tr th:only-of-type {\n",
       "        vertical-align: middle;\n",
       "    }\n",
       "\n",
       "    .dataframe tbody tr th {\n",
       "        vertical-align: top;\n",
       "    }\n",
       "\n",
       "    .dataframe thead th {\n",
       "        text-align: right;\n",
       "    }\n",
       "</style>\n",
       "<table border=\"1\" class=\"dataframe\">\n",
       "  <thead>\n",
       "    <tr style=\"text-align: right;\">\n",
       "      <th></th>\n",
       "      <th>Beds</th>\n",
       "      <th>Baths</th>\n",
       "      <th>sq.ft</th>\n",
       "      <th>Floor</th>\n",
       "    </tr>\n",
       "  </thead>\n",
       "  <tbody>\n",
       "    <tr>\n",
       "      <th>0</th>\n",
       "      <td>0</td>\n",
       "      <td>1</td>\n",
       "      <td>523</td>\n",
       "      <td>5</td>\n",
       "    </tr>\n",
       "    <tr>\n",
       "      <th>1</th>\n",
       "      <td>1</td>\n",
       "      <td>1</td>\n",
       "      <td>713</td>\n",
       "      <td>2</td>\n",
       "    </tr>\n",
       "    <tr>\n",
       "      <th>2</th>\n",
       "      <td>2</td>\n",
       "      <td>2</td>\n",
       "      <td>1252</td>\n",
       "      <td>6</td>\n",
       "    </tr>\n",
       "    <tr>\n",
       "      <th>3</th>\n",
       "      <td>0</td>\n",
       "      <td>1</td>\n",
       "      <td>456</td>\n",
       "      <td>2</td>\n",
       "    </tr>\n",
       "    <tr>\n",
       "      <th>4</th>\n",
       "      <td>1</td>\n",
       "      <td>1</td>\n",
       "      <td>580</td>\n",
       "      <td>3</td>\n",
       "    </tr>\n",
       "  </tbody>\n",
       "</table>\n",
       "</div>"
      ],
      "text/plain": [
       "   Beds  Baths  sq.ft  Floor\n",
       "0     0      1    523      5\n",
       "1     1      1    713      2\n",
       "2     2      2   1252      6\n",
       "3     0      1    456      2\n",
       "4     1      1    580      3"
      ]
     },
     "execution_count": 41,
     "metadata": {},
     "output_type": "execute_result"
    }
   ],
   "source": [
    "x.head()"
   ]
  },
  {
   "cell_type": "code",
   "execution_count": 42,
   "id": "d0d7b132",
   "metadata": {},
   "outputs": [
    {
     "data": {
      "text/plain": [
       "0    2377\n",
       "1    2816\n",
       "2    3811\n",
       "3    1549\n",
       "4    1753\n",
       "Name: Price, dtype: int64"
      ]
     },
     "execution_count": 42,
     "metadata": {},
     "output_type": "execute_result"
    }
   ],
   "source": [
    "y.head()"
   ]
  },
  {
   "cell_type": "code",
   "execution_count": 43,
   "id": "2f750ddb",
   "metadata": {},
   "outputs": [],
   "source": [
    "#Split  x and y\n",
    "\n",
    "x_train, x_test, y_train, y_test = train_test_split(x,y,test_size = .25, random_state=7)"
   ]
  },
  {
   "cell_type": "code",
   "execution_count": 44,
   "id": "ae267215",
   "metadata": {},
   "outputs": [
    {
     "data": {
      "text/plain": [
       "((47107, 4), (47107,), (15703, 4), (15703,))"
      ]
     },
     "execution_count": 44,
     "metadata": {},
     "output_type": "execute_result"
    }
   ],
   "source": [
    "x_train.shape,y_train.shape,x_test.shape,y_test.shape"
   ]
  },
  {
   "cell_type": "code",
   "execution_count": 45,
   "id": "4da9246a",
   "metadata": {
    "scrolled": true
   },
   "outputs": [
    {
     "data": {
      "text/html": [
       "<div>\n",
       "<style scoped>\n",
       "    .dataframe tbody tr th:only-of-type {\n",
       "        vertical-align: middle;\n",
       "    }\n",
       "\n",
       "    .dataframe tbody tr th {\n",
       "        vertical-align: top;\n",
       "    }\n",
       "\n",
       "    .dataframe thead th {\n",
       "        text-align: right;\n",
       "    }\n",
       "</style>\n",
       "<table border=\"1\" class=\"dataframe\">\n",
       "  <thead>\n",
       "    <tr style=\"text-align: right;\">\n",
       "      <th></th>\n",
       "      <th>Beds</th>\n",
       "      <th>Baths</th>\n",
       "      <th>sq.ft</th>\n",
       "      <th>Floor</th>\n",
       "    </tr>\n",
       "  </thead>\n",
       "  <tbody>\n",
       "    <tr>\n",
       "      <th>17832</th>\n",
       "      <td>3</td>\n",
       "      <td>2</td>\n",
       "      <td>1290</td>\n",
       "      <td>40</td>\n",
       "    </tr>\n",
       "    <tr>\n",
       "      <th>35122</th>\n",
       "      <td>0</td>\n",
       "      <td>2</td>\n",
       "      <td>615</td>\n",
       "      <td>4</td>\n",
       "    </tr>\n",
       "    <tr>\n",
       "      <th>47094</th>\n",
       "      <td>2</td>\n",
       "      <td>2</td>\n",
       "      <td>1046</td>\n",
       "      <td>3</td>\n",
       "    </tr>\n",
       "    <tr>\n",
       "      <th>42553</th>\n",
       "      <td>2</td>\n",
       "      <td>2</td>\n",
       "      <td>1072</td>\n",
       "      <td>12</td>\n",
       "    </tr>\n",
       "    <tr>\n",
       "      <th>42748</th>\n",
       "      <td>2</td>\n",
       "      <td>2</td>\n",
       "      <td>1059</td>\n",
       "      <td>1</td>\n",
       "    </tr>\n",
       "  </tbody>\n",
       "</table>\n",
       "</div>"
      ],
      "text/plain": [
       "       Beds  Baths  sq.ft  Floor\n",
       "17832     3      2   1290     40\n",
       "35122     0      2    615      4\n",
       "47094     2      2   1046      3\n",
       "42553     2      2   1072     12\n",
       "42748     2      2   1059      1"
      ]
     },
     "execution_count": 45,
     "metadata": {},
     "output_type": "execute_result"
    }
   ],
   "source": [
    "x_train.head()\n"
   ]
  },
  {
   "cell_type": "code",
   "execution_count": 46,
   "id": "c558e83b",
   "metadata": {},
   "outputs": [
    {
     "data": {
      "text/plain": [
       "17832    4830\n",
       "35122    2277\n",
       "47094    4828\n",
       "42553    3531\n",
       "42748    2609\n",
       "Name: Price, dtype: int64"
      ]
     },
     "execution_count": 46,
     "metadata": {},
     "output_type": "execute_result"
    }
   ],
   "source": [
    "y_train.head()"
   ]
  },
  {
   "cell_type": "code",
   "execution_count": 47,
   "id": "cd785acc",
   "metadata": {
    "scrolled": true
   },
   "outputs": [
    {
     "data": {
      "text/html": [
       "<div>\n",
       "<style scoped>\n",
       "    .dataframe tbody tr th:only-of-type {\n",
       "        vertical-align: middle;\n",
       "    }\n",
       "\n",
       "    .dataframe tbody tr th {\n",
       "        vertical-align: top;\n",
       "    }\n",
       "\n",
       "    .dataframe thead th {\n",
       "        text-align: right;\n",
       "    }\n",
       "</style>\n",
       "<table border=\"1\" class=\"dataframe\">\n",
       "  <thead>\n",
       "    <tr style=\"text-align: right;\">\n",
       "      <th></th>\n",
       "      <th>Beds</th>\n",
       "      <th>Baths</th>\n",
       "      <th>sq.ft</th>\n",
       "      <th>Floor</th>\n",
       "    </tr>\n",
       "  </thead>\n",
       "  <tbody>\n",
       "    <tr>\n",
       "      <th>58056</th>\n",
       "      <td>2</td>\n",
       "      <td>1</td>\n",
       "      <td>915</td>\n",
       "      <td>8</td>\n",
       "    </tr>\n",
       "    <tr>\n",
       "      <th>20178</th>\n",
       "      <td>1</td>\n",
       "      <td>1</td>\n",
       "      <td>792</td>\n",
       "      <td>6</td>\n",
       "    </tr>\n",
       "    <tr>\n",
       "      <th>52650</th>\n",
       "      <td>0</td>\n",
       "      <td>1</td>\n",
       "      <td>505</td>\n",
       "      <td>12</td>\n",
       "    </tr>\n",
       "    <tr>\n",
       "      <th>2520</th>\n",
       "      <td>1</td>\n",
       "      <td>1</td>\n",
       "      <td>583</td>\n",
       "      <td>12</td>\n",
       "    </tr>\n",
       "    <tr>\n",
       "      <th>54712</th>\n",
       "      <td>0</td>\n",
       "      <td>1</td>\n",
       "      <td>396</td>\n",
       "      <td>9</td>\n",
       "    </tr>\n",
       "  </tbody>\n",
       "</table>\n",
       "</div>"
      ],
      "text/plain": [
       "       Beds  Baths  sq.ft  Floor\n",
       "58056     2      1    915      8\n",
       "20178     1      1    792      6\n",
       "52650     0      1    505     12\n",
       "2520      1      1    583     12\n",
       "54712     0      1    396      9"
      ]
     },
     "execution_count": 47,
     "metadata": {},
     "output_type": "execute_result"
    }
   ],
   "source": [
    "x_test.head()"
   ]
  },
  {
   "cell_type": "code",
   "execution_count": 48,
   "id": "22f386db",
   "metadata": {},
   "outputs": [
    {
     "data": {
      "text/plain": [
       "58056    2526\n",
       "20178    2600\n",
       "52650    2357\n",
       "2520     3863\n",
       "54712    1553\n",
       "Name: Price, dtype: int64"
      ]
     },
     "execution_count": 48,
     "metadata": {},
     "output_type": "execute_result"
    }
   ],
   "source": [
    "y_test.head()"
   ]
  },
  {
   "cell_type": "code",
   "execution_count": 49,
   "id": "952adaed",
   "metadata": {},
   "outputs": [
    {
     "data": {
      "text/html": [
       "<div>\n",
       "<style scoped>\n",
       "    .dataframe tbody tr th:only-of-type {\n",
       "        vertical-align: middle;\n",
       "    }\n",
       "\n",
       "    .dataframe tbody tr th {\n",
       "        vertical-align: top;\n",
       "    }\n",
       "\n",
       "    .dataframe thead th {\n",
       "        text-align: right;\n",
       "    }\n",
       "</style>\n",
       "<table border=\"1\" class=\"dataframe\">\n",
       "  <thead>\n",
       "    <tr style=\"text-align: right;\">\n",
       "      <th></th>\n",
       "      <th>Beds</th>\n",
       "      <th>Baths</th>\n",
       "      <th>sq.ft</th>\n",
       "      <th>Floor</th>\n",
       "    </tr>\n",
       "  </thead>\n",
       "  <tbody>\n",
       "    <tr>\n",
       "      <th>count</th>\n",
       "      <td>47107.000000</td>\n",
       "      <td>47107.000000</td>\n",
       "      <td>47107.000000</td>\n",
       "      <td>47107.000000</td>\n",
       "    </tr>\n",
       "    <tr>\n",
       "      <th>mean</th>\n",
       "      <td>1.292419</td>\n",
       "      <td>1.408814</td>\n",
       "      <td>847.748445</td>\n",
       "      <td>6.432335</td>\n",
       "    </tr>\n",
       "    <tr>\n",
       "      <th>std</th>\n",
       "      <td>0.707406</td>\n",
       "      <td>0.546661</td>\n",
       "      <td>250.546023</td>\n",
       "      <td>7.268377</td>\n",
       "    </tr>\n",
       "    <tr>\n",
       "      <th>min</th>\n",
       "      <td>0.000000</td>\n",
       "      <td>1.000000</td>\n",
       "      <td>210.000000</td>\n",
       "      <td>1.000000</td>\n",
       "    </tr>\n",
       "    <tr>\n",
       "      <th>25%</th>\n",
       "      <td>1.000000</td>\n",
       "      <td>1.000000</td>\n",
       "      <td>674.000000</td>\n",
       "      <td>2.000000</td>\n",
       "    </tr>\n",
       "    <tr>\n",
       "      <th>50%</th>\n",
       "      <td>1.000000</td>\n",
       "      <td>1.000000</td>\n",
       "      <td>785.000000</td>\n",
       "      <td>4.000000</td>\n",
       "    </tr>\n",
       "    <tr>\n",
       "      <th>75%</th>\n",
       "      <td>2.000000</td>\n",
       "      <td>2.000000</td>\n",
       "      <td>1050.000000</td>\n",
       "      <td>8.000000</td>\n",
       "    </tr>\n",
       "    <tr>\n",
       "      <th>max</th>\n",
       "      <td>3.000000</td>\n",
       "      <td>3.000000</td>\n",
       "      <td>1917.000000</td>\n",
       "      <td>49.000000</td>\n",
       "    </tr>\n",
       "  </tbody>\n",
       "</table>\n",
       "</div>"
      ],
      "text/plain": [
       "               Beds         Baths         sq.ft         Floor\n",
       "count  47107.000000  47107.000000  47107.000000  47107.000000\n",
       "mean       1.292419      1.408814    847.748445      6.432335\n",
       "std        0.707406      0.546661    250.546023      7.268377\n",
       "min        0.000000      1.000000    210.000000      1.000000\n",
       "25%        1.000000      1.000000    674.000000      2.000000\n",
       "50%        1.000000      1.000000    785.000000      4.000000\n",
       "75%        2.000000      2.000000   1050.000000      8.000000\n",
       "max        3.000000      3.000000   1917.000000     49.000000"
      ]
     },
     "execution_count": 49,
     "metadata": {},
     "output_type": "execute_result"
    }
   ],
   "source": [
    "x_train.describe() "
   ]
  },
  {
   "cell_type": "code",
   "execution_count": 50,
   "id": "777ddce5",
   "metadata": {},
   "outputs": [
    {
     "data": {
      "text/plain": [
       "count    47107.000000\n",
       "mean      3007.472605\n",
       "std       1015.458925\n",
       "min       1211.000000\n",
       "25%       2290.000000\n",
       "50%       2809.000000\n",
       "75%       3462.000000\n",
       "max       9890.000000\n",
       "Name: Price, dtype: float64"
      ]
     },
     "execution_count": 50,
     "metadata": {},
     "output_type": "execute_result"
    }
   ],
   "source": [
    "y_train.describe() "
   ]
  },
  {
   "cell_type": "markdown",
   "id": "b74276eb",
   "metadata": {},
   "source": [
    "### model building"
   ]
  },
  {
   "cell_type": "markdown",
   "id": "cc17bf08",
   "metadata": {},
   "source": [
    "### RandomForestRegressor"
   ]
  },
  {
   "cell_type": "code",
   "execution_count": 51,
   "id": "51a0bccf",
   "metadata": {},
   "outputs": [],
   "source": [
    "from sklearn.ensemble import RandomForestRegressor"
   ]
  },
  {
   "cell_type": "code",
   "execution_count": 52,
   "id": "8e1e6715",
   "metadata": {},
   "outputs": [],
   "source": [
    "model=RandomForestRegressor(n_estimators = 100,random_state=7)"
   ]
  },
  {
   "cell_type": "code",
   "execution_count": 53,
   "id": "e35ee3f6",
   "metadata": {
    "scrolled": true
   },
   "outputs": [
    {
     "name": "stdout",
     "output_type": "stream",
     "text": [
      "[2596.07044289 2585.0314905  2313.10650915 ... 3358.82219307 2317.83783298\n",
      " 2674.92072307]\n",
      "\n",
      "mean_squared_error= 67224.91556380881\n",
      "\n",
      "root_mean_squared_error= 259.27768041967823\n",
      "\n",
      "mean_absolute_erro= 120.91216438582234\n",
      "\n",
      "mean_absolute_percentage_error= 0.044571779521446156\n"
     ]
    }
   ],
   "source": [
    "#model fit\n",
    "\n",
    "model.fit(x_train,y_train)\n",
    "y_pred=model.predict(x_test)\n",
    "print(y_pred)\n",
    "print( )\n",
    "\n",
    "# mean_squared_error\n",
    "\n",
    "print('mean_squared_error=',mean_squared_error(y_test,y_pred))\n",
    "print( )\n",
    "\n",
    "# root_mean_squared_error\n",
    "\n",
    "rmse=sqrt(mean_squared_error(y_test,y_pred))\n",
    "print('root_mean_squared_error=',rmse)\n",
    "print( )\n",
    "\n",
    "# mean_absolute_error\n",
    "\n",
    "MAE=mean_absolute_error(y_test,y_pred)\n",
    "print(\"mean_absolute_erro=\",MAE)\n",
    "print( )\n",
    "\n",
    "# mean_absolute_percentage_error\n",
    "\n",
    "MAPE=mean_absolute_percentage_error(y_test,y_pred)\n",
    "print('mean_absolute_percentage_error=',MAPE)\n"
   ]
  },
  {
   "cell_type": "code",
   "execution_count": 54,
   "id": "e8152ccb",
   "metadata": {},
   "outputs": [
    {
     "data": {
      "text/plain": [
       "93.18362489005702"
      ]
     },
     "execution_count": 54,
     "metadata": {},
     "output_type": "execute_result"
    }
   ],
   "source": [
    "model.score(x_test,y_test)*100"
   ]
  },
  {
   "cell_type": "markdown",
   "id": "f0b7e015",
   "metadata": {},
   "source": [
    "### LinearRegression"
   ]
  },
  {
   "cell_type": "code",
   "execution_count": 55,
   "id": "e2b83561",
   "metadata": {},
   "outputs": [],
   "source": [
    "from sklearn.linear_model import LinearRegression"
   ]
  },
  {
   "cell_type": "code",
   "execution_count": 56,
   "id": "04551500",
   "metadata": {
    "scrolled": true
   },
   "outputs": [
    {
     "name": "stdout",
     "output_type": "stream",
     "text": [
      "[3389.26926517 2789.33892086 2464.28471138 ... 2820.02353328 3071.82464886\n",
      " 3200.07954069]\n",
      "\n",
      "mean_squared_error= 568849.6555662537\n",
      "root_mean_squared_erro= 754.2212245530178\n",
      "\n",
      "mean_absolute_erro= 556.1052071115474\n",
      "\n",
      "mean_absolute_percentage_error= 0.18977763773382617\n"
     ]
    }
   ],
   "source": [
    "model2=LinearRegression()\n",
    "model2.fit(x_train, y_train)\n",
    "y_pred2 = model2.predict(x_test)\n",
    "print(y_pred2)\n",
    "print( )\n",
    "\n",
    "# mean_squared_error\n",
    "\n",
    "print('mean_squared_error=',mean_squared_error(y_test,y_pred2))\n",
    "\n",
    "# root_mean_squared_error\n",
    "\n",
    "rmse=sqrt(mean_squared_error(y_test,y_pred2))\n",
    "print('root_mean_squared_erro=',rmse)\n",
    "print( )\n",
    "\n",
    "# mean_absolute_error\n",
    "\n",
    "MAE=mean_absolute_error(y_test,y_pred2)\n",
    "print(\"mean_absolute_erro=\",MAE)\n",
    "print( )\n",
    "\n",
    "# mean_absolute_percentage_error\n",
    "\n",
    "MAPE=mean_absolute_percentage_error(y_test,y_pred2)\n",
    "print('mean_absolute_percentage_error=',MAPE)\n"
   ]
  },
  {
   "cell_type": "markdown",
   "id": "2639cae3",
   "metadata": {},
   "source": [
    "### xgboost"
   ]
  },
  {
   "cell_type": "markdown",
   "id": "4a3cf6be",
   "metadata": {},
   "source": [
    "Insatll xgboost in jupyter\n",
    "open anaconda promat and\n",
    "use command 'conda install -c mndrake xgboost'"
   ]
  },
  {
   "cell_type": "code",
   "execution_count": 57,
   "id": "eee0c93d",
   "metadata": {},
   "outputs": [],
   "source": [
    "import xgboost"
   ]
  },
  {
   "cell_type": "code",
   "execution_count": 58,
   "id": "d406b9b8",
   "metadata": {},
   "outputs": [
    {
     "name": "stdout",
     "output_type": "stream",
     "text": [
      "[2592.6511 2746.0818 2272.226  ... 2897.1277 2800.2188 2721.074 ]\n",
      "mean_squared_error= 144353.7815407939\n",
      "\n",
      "root_mean_squared_erro= 379.9391813709056\n",
      "\n",
      "mean_absolute_erro= 259.70939048053367\n",
      "\n",
      "mean_absolute_percentage_error= 0.09339809846805601\n"
     ]
    }
   ],
   "source": [
    "model3=xgboost.XGBRegressor()\n",
    "model3.fit(x_train,y_train)\n",
    "y_pred3=model3.predict(x_test)\n",
    "print(y_pred3)\n",
    "\n",
    "# mean_squared_error\n",
    "\n",
    "print('mean_squared_error=',mean_squared_error(y_test,y_pred3))\n",
    "print( )\n",
    "\n",
    "# root_mean_squared_error\n",
    "\n",
    "rmse=sqrt(mean_squared_error(y_test,y_pred3))\n",
    "print('root_mean_squared_erro=',rmse)\n",
    "print( )\n",
    "\n",
    "# mean_absolute_error\n",
    "\n",
    "MAE=mean_absolute_error(y_test,y_pred3)\n",
    "print(\"mean_absolute_erro=\",MAE)\n",
    "print( )\n",
    "\n",
    "# mean_absolute_percentage_error\n",
    "\n",
    "MAPE=mean_absolute_percentage_error(y_test,y_pred3)\n",
    "print('mean_absolute_percentage_error=',MAPE)"
   ]
  },
  {
   "cell_type": "code",
   "execution_count": 59,
   "id": "b650d182",
   "metadata": {},
   "outputs": [
    {
     "data": {
      "text/plain": [
       "85.36302328878574"
      ]
     },
     "execution_count": 59,
     "metadata": {},
     "output_type": "execute_result"
    }
   ],
   "source": [
    "model3.score(x_test,y_test)*100"
   ]
  },
  {
   "cell_type": "code",
   "execution_count": 60,
   "id": "5a0a7385",
   "metadata": {},
   "outputs": [],
   "source": [
    "from sklearn.svm import SVR"
   ]
  },
  {
   "cell_type": "code",
   "execution_count": 61,
   "id": "bacac908",
   "metadata": {
    "scrolled": true
   },
   "outputs": [
    {
     "name": "stdout",
     "output_type": "stream",
     "text": [
      "[2874.76083304 2642.29662644 2304.79049659 ... 2464.62733141 2763.58563986\n",
      " 2954.30132727]\n",
      "\n",
      "mean_squared_error= 775060.072707577\n",
      "\n",
      "root_mean_squared_erro= 880.3749614269916\n",
      "\n",
      "mean_absolute_erro= 600.3079785602038\n",
      "\n",
      "mean_absolute_percentage_error= 0.09339809846805601\n"
     ]
    }
   ],
   "source": [
    "model1=SVR()\n",
    "model1.fit(x_train,y_train)\n",
    "y_pred1=model1.predict(x_test)\n",
    "print(y_pred1)\n",
    "print()\n",
    "\n",
    "# mean_squared_error\n",
    "\n",
    "print('mean_squared_error=',mean_squared_error(y_test,y_pred1))\n",
    "print()\n",
    "\n",
    "# root_mean_squared_error\n",
    "\n",
    "rmse=sqrt(mean_squared_error(y_test,y_pred1))\n",
    "print('root_mean_squared_erro=',rmse)\n",
    "print()\n",
    "\n",
    "\n",
    "# mean_absolute_error\n",
    "\n",
    "\n",
    "MAE=mean_absolute_error(y_test,y_pred1)\n",
    "print(\"mean_absolute_erro=\",MAE)\n",
    "print()\n",
    "\n",
    "# mean_absolute_percentage_error\n",
    "MAPE=mean_absolute_percentage_error(y_test,y_pred3)\n",
    "print('mean_absolute_percentage_error=',MAPE)\n"
   ]
  },
  {
   "cell_type": "code",
   "execution_count": 151,
   "id": "ba7cf865",
   "metadata": {},
   "outputs": [],
   "source": [
    "#\tBeds\tBaths\tsq.ft\tFloor\n",
    "\n",
    "#inp=np.array([2,1,915,8])\n",
    "#ip=inp.reshape(1, -1)\n",
    "#ip\n",
    "#model.predict(ip)"
   ]
  },
  {
   "cell_type": "code",
   "execution_count": 62,
   "id": "4795d371",
   "metadata": {},
   "outputs": [
    {
     "name": "stdout",
     "output_type": "stream",
     "text": [
      "Number of Beds:4\n",
      "Number of Baths:2\n",
      "Size of plot in(sq.ft):1001\n",
      "Which Floor:5\n",
      "Predicted House price: [3194.]\n"
     ]
    }
   ],
   "source": [
    "#user input,\n",
    "#price predict\n",
    "\n",
    "\n",
    "my_array = []\n",
    "for i in range(4):\n",
    "    b=float(input('Number of Beds:'))\n",
    "    my_array.append(b)\n",
    "    b=float(input('Number of Baths:'))\n",
    "    my_array.append(b)\n",
    "    b=float(input('Size of plot in(sq.ft):'))\n",
    "    my_array.append(b)\n",
    "    b=float(input('Which Floor:'))\n",
    "    my_array.append(b)\n",
    "    break\n",
    "my_array = np.array(my_array)\n",
    "\n",
    "ip=my_array.reshape(1, -1)\n",
    "\n",
    "a=model.predict(ip)\n",
    "\n",
    "print('Predicted House price:',np.around(a))\n",
    "\n",
    "#print('Predicted House price:',model.predict(ip))"
   ]
  },
  {
   "cell_type": "code",
   "execution_count": null,
   "id": "5dcda858",
   "metadata": {},
   "outputs": [],
   "source": []
  }
 ],
 "metadata": {
  "kernelspec": {
   "display_name": "Python 3",
   "language": "python",
   "name": "python3"
  },
  "language_info": {
   "codemirror_mode": {
    "name": "ipython",
    "version": 3
   },
   "file_extension": ".py",
   "mimetype": "text/x-python",
   "name": "python",
   "nbconvert_exporter": "python",
   "pygments_lexer": "ipython3",
   "version": "3.8.8"
  }
 },
 "nbformat": 4,
 "nbformat_minor": 5
}
